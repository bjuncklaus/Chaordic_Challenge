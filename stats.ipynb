{
 "cells": [
  {
   "cell_type": "code",
   "execution_count": 1,
   "metadata": {},
   "outputs": [
    {
     "data": {
      "text/plain": [
       "'0.21.0'"
      ]
     },
     "execution_count": 1,
     "metadata": {},
     "output_type": "execute_result"
    }
   ],
   "source": [
    "import pandas as pd\n",
    "pd.__version__"
   ]
  },
  {
   "cell_type": "code",
   "execution_count": 2,
   "metadata": {},
   "outputs": [],
   "source": [
    "data_dir = 'data/'\n",
    "data_transanctions = data_dir + 'transactions/full_transactions.pickle'\n",
    "data_clicks = data_dir + 'clicks/full_clicks.pickle'\n",
    "data_impressions = data_dir + 'impressions/full_impressions.pickle'\n",
    "data_pageViews = data_dir + 'pageViews/full_pageViews.pickle'"
   ]
  },
  {
   "cell_type": "code",
   "execution_count": 3,
   "metadata": {},
   "outputs": [
    {
     "data": {
      "text/plain": [
       "109194"
      ]
     },
     "execution_count": 3,
     "metadata": {},
     "output_type": "execute_result"
    }
   ],
   "source": [
    "df_transactions = pd.read_pickle(data_transanctions)\n",
    "len(df_transactions)"
   ]
  },
  {
   "cell_type": "code",
   "execution_count": 4,
   "metadata": {},
   "outputs": [
    {
     "data": {
      "text/plain": [
       "1183002"
      ]
     },
     "execution_count": 4,
     "metadata": {},
     "output_type": "execute_result"
    }
   ],
   "source": [
    "df_clicks = pd.read_pickle(data_clicks)\n",
    "len(df_clicks)"
   ]
  },
  {
   "cell_type": "code",
   "execution_count": 5,
   "metadata": {},
   "outputs": [
    {
     "data": {
      "text/plain": [
       "25798767"
      ]
     },
     "execution_count": 5,
     "metadata": {},
     "output_type": "execute_result"
    }
   ],
   "source": [
    "df_impressions = pd.read_pickle(data_impressions)\n",
    "len(df_impressions)"
   ]
  },
  {
   "cell_type": "code",
   "execution_count": 6,
   "metadata": {},
   "outputs": [
    {
     "data": {
      "text/plain": [
       "30367518"
      ]
     },
     "execution_count": 6,
     "metadata": {},
     "output_type": "execute_result"
    }
   ],
   "source": [
    "df_pageViews = pd.read_pickle(data_pageViews)\n",
    "len(df_pageViews)"
   ]
  },
  {
   "cell_type": "code",
   "execution_count": 7,
   "metadata": {},
   "outputs": [
    {
     "data": {
      "text/plain": [
       "57458481"
      ]
     },
     "execution_count": 7,
     "metadata": {},
     "output_type": "execute_result"
    }
   ],
   "source": [
    "len(df_transactions) + len(df_clicks) + len(df_impressions) + len(df_pageViews)"
   ]
  },
  {
   "cell_type": "markdown",
   "metadata": {},
   "source": [
    "## Revenue per visitor && Transactions per visitor"
   ]
  },
  {
   "cell_type": "code",
   "execution_count": 8,
   "metadata": {},
   "outputs": [
    {
     "data": {
      "text/html": [
       "<div>\n",
       "<style scoped>\n",
       "    .dataframe tbody tr th:only-of-type {\n",
       "        vertical-align: middle;\n",
       "    }\n",
       "\n",
       "    .dataframe tbody tr th {\n",
       "        vertical-align: top;\n",
       "    }\n",
       "\n",
       "    .dataframe thead th {\n",
       "        text-align: right;\n",
       "    }\n",
       "</style>\n",
       "<table border=\"1\" class=\"dataframe\">\n",
       "  <thead>\n",
       "    <tr style=\"text-align: right;\">\n",
       "      <th></th>\n",
       "      <th>id</th>\n",
       "      <th>items</th>\n",
       "      <th>paymentType</th>\n",
       "      <th>timestamp</th>\n",
       "      <th>user_id</th>\n",
       "      <th>os</th>\n",
       "      <th>source</th>\n",
       "      <th>browser</th>\n",
       "      <th>group</th>\n",
       "      <th>session</th>\n",
       "    </tr>\n",
       "  </thead>\n",
       "  <tbody>\n",
       "    <tr>\n",
       "      <th>0</th>\n",
       "      <td>-8468716808217914046</td>\n",
       "      <td>[{'id': -2946697713091517060, 'price': 99.99, ...</td>\n",
       "      <td>NaN</td>\n",
       "      <td>2017-09-13 16:12:46</td>\n",
       "      <td>787012871705135056</td>\n",
       "      <td>Windows</td>\n",
       "      <td>desktop</td>\n",
       "      <td>Chrome</td>\n",
       "      <td>F</td>\n",
       "      <td>-8514449600553721711</td>\n",
       "    </tr>\n",
       "    <tr>\n",
       "      <th>1</th>\n",
       "      <td>103257389481310034</td>\n",
       "      <td>[{'id': -7444430477752553485, 'price': 86.24, ...</td>\n",
       "      <td>NaN</td>\n",
       "      <td>2017-09-13 16:30:39</td>\n",
       "      <td>3879043729920840203</td>\n",
       "      <td>Windows</td>\n",
       "      <td>desktop</td>\n",
       "      <td>Chrome</td>\n",
       "      <td>C</td>\n",
       "      <td>-4157417249875967771</td>\n",
       "    </tr>\n",
       "    <tr>\n",
       "      <th>2</th>\n",
       "      <td>998471017524245573</td>\n",
       "      <td>[{'id': -4553141046227747134, 'price': 154.9, ...</td>\n",
       "      <td>NaN</td>\n",
       "      <td>2017-09-13 16:14:05</td>\n",
       "      <td>-5389786785786592819</td>\n",
       "      <td>Windows</td>\n",
       "      <td>desktop</td>\n",
       "      <td>Chrome</td>\n",
       "      <td>G</td>\n",
       "      <td>-2382791529923951593</td>\n",
       "    </tr>\n",
       "    <tr>\n",
       "      <th>3</th>\n",
       "      <td>-8392062821901812660</td>\n",
       "      <td>[{'id': -5154934163428414730, 'price': 74.99, ...</td>\n",
       "      <td>NaN</td>\n",
       "      <td>2017-09-13 16:34:50</td>\n",
       "      <td>-3978845478002365252</td>\n",
       "      <td>Windows</td>\n",
       "      <td>desktop</td>\n",
       "      <td>Chrome</td>\n",
       "      <td>B</td>\n",
       "      <td>-7474144324138992870</td>\n",
       "    </tr>\n",
       "    <tr>\n",
       "      <th>4</th>\n",
       "      <td>-1437509789217736858</td>\n",
       "      <td>[{'id': 7311257587267350768, 'price': 359.99, ...</td>\n",
       "      <td>NaN</td>\n",
       "      <td>2017-09-13 16:30:41</td>\n",
       "      <td>-4978600350686100027</td>\n",
       "      <td>Android</td>\n",
       "      <td>mobile</td>\n",
       "      <td>Chrome</td>\n",
       "      <td>B</td>\n",
       "      <td>3836039149292236146</td>\n",
       "    </tr>\n",
       "  </tbody>\n",
       "</table>\n",
       "</div>"
      ],
      "text/plain": [
       "                    id                                              items  \\\n",
       "0 -8468716808217914046  [{'id': -2946697713091517060, 'price': 99.99, ...   \n",
       "1   103257389481310034  [{'id': -7444430477752553485, 'price': 86.24, ...   \n",
       "2   998471017524245573  [{'id': -4553141046227747134, 'price': 154.9, ...   \n",
       "3 -8392062821901812660  [{'id': -5154934163428414730, 'price': 74.99, ...   \n",
       "4 -1437509789217736858  [{'id': 7311257587267350768, 'price': 359.99, ...   \n",
       "\n",
       "  paymentType           timestamp              user_id       os   source  \\\n",
       "0         NaN 2017-09-13 16:12:46   787012871705135056  Windows  desktop   \n",
       "1         NaN 2017-09-13 16:30:39  3879043729920840203  Windows  desktop   \n",
       "2         NaN 2017-09-13 16:14:05 -5389786785786592819  Windows  desktop   \n",
       "3         NaN 2017-09-13 16:34:50 -3978845478002365252  Windows  desktop   \n",
       "4         NaN 2017-09-13 16:30:41 -4978600350686100027  Android   mobile   \n",
       "\n",
       "  browser group               session  \n",
       "0  Chrome     F  -8514449600553721711  \n",
       "1  Chrome     C  -4157417249875967771  \n",
       "2  Chrome     G  -2382791529923951593  \n",
       "3  Chrome     B  -7474144324138992870  \n",
       "4  Chrome     B   3836039149292236146  "
      ]
     },
     "execution_count": 8,
     "metadata": {},
     "output_type": "execute_result"
    }
   ],
   "source": [
    "df_transactions.head()"
   ]
  },
  {
   "cell_type": "code",
   "execution_count": 9,
   "metadata": {},
   "outputs": [
    {
     "name": "stdout",
     "output_type": "stream",
     "text": [
      "<class 'pandas.core.frame.DataFrame'>\n",
      "Int64Index: 109194 entries, 0 to 1475\n",
      "Data columns (total 10 columns):\n",
      "id             109194 non-null category\n",
      "items          109194 non-null object\n",
      "paymentType    0 non-null category\n",
      "timestamp      109194 non-null datetime64[ns]\n",
      "user_id        109194 non-null category\n",
      "os             109194 non-null category\n",
      "source         109194 non-null category\n",
      "browser        109194 non-null category\n",
      "group          109194 non-null category\n",
      "session        109194 non-null category\n",
      "dtypes: category(8), datetime64[ns](1), object(1)\n",
      "memory usage: 30.9 MB\n"
     ]
    }
   ],
   "source": [
    "df_transactions.info(memory_usage=\"deep\")"
   ]
  },
  {
   "cell_type": "code",
   "execution_count": 10,
   "metadata": {},
   "outputs": [
    {
     "name": "stdout",
     "output_type": "stream",
     "text": [
      "<class 'pandas.core.frame.DataFrame'>\n",
      "Int64Index: 109194 entries, 0 to 1475\n",
      "Data columns (total 9 columns):\n",
      "id           109194 non-null category\n",
      "items        109194 non-null object\n",
      "timestamp    109194 non-null datetime64[ns]\n",
      "user_id      109194 non-null category\n",
      "os           109194 non-null category\n",
      "source       109194 non-null category\n",
      "browser      109194 non-null category\n",
      "group        109194 non-null category\n",
      "session      109194 non-null category\n",
      "dtypes: category(7), datetime64[ns](1), object(1)\n",
      "memory usage: 30.8 MB\n"
     ]
    }
   ],
   "source": [
    "df_transactions.drop('paymentType', axis=1, inplace=True)\n",
    "df_transactions.info(memory_usage=\"deep\")"
   ]
  },
  {
   "cell_type": "code",
   "execution_count": 11,
   "metadata": {},
   "outputs": [],
   "source": [
    "df_transactions.set_index('id', inplace=True)"
   ]
  },
  {
   "cell_type": "code",
   "execution_count": 12,
   "metadata": {},
   "outputs": [
    {
     "data": {
      "text/html": [
       "<div>\n",
       "<style scoped>\n",
       "    .dataframe tbody tr th:only-of-type {\n",
       "        vertical-align: middle;\n",
       "    }\n",
       "\n",
       "    .dataframe tbody tr th {\n",
       "        vertical-align: top;\n",
       "    }\n",
       "\n",
       "    .dataframe thead th {\n",
       "        text-align: right;\n",
       "    }\n",
       "</style>\n",
       "<table border=\"1\" class=\"dataframe\">\n",
       "  <thead>\n",
       "    <tr style=\"text-align: right;\">\n",
       "      <th></th>\n",
       "      <th>items</th>\n",
       "      <th>timestamp</th>\n",
       "      <th>user_id</th>\n",
       "      <th>os</th>\n",
       "      <th>source</th>\n",
       "      <th>browser</th>\n",
       "      <th>group</th>\n",
       "      <th>session</th>\n",
       "    </tr>\n",
       "    <tr>\n",
       "      <th>id</th>\n",
       "      <th></th>\n",
       "      <th></th>\n",
       "      <th></th>\n",
       "      <th></th>\n",
       "      <th></th>\n",
       "      <th></th>\n",
       "      <th></th>\n",
       "      <th></th>\n",
       "    </tr>\n",
       "  </thead>\n",
       "  <tbody>\n",
       "    <tr>\n",
       "      <th>-8468716808217914046</th>\n",
       "      <td>[{'id': -2946697713091517060, 'price': 99.99, ...</td>\n",
       "      <td>2017-09-13 16:12:46</td>\n",
       "      <td>787012871705135056</td>\n",
       "      <td>Windows</td>\n",
       "      <td>desktop</td>\n",
       "      <td>Chrome</td>\n",
       "      <td>F</td>\n",
       "      <td>-8514449600553721711</td>\n",
       "    </tr>\n",
       "    <tr>\n",
       "      <th>103257389481310034</th>\n",
       "      <td>[{'id': -7444430477752553485, 'price': 86.24, ...</td>\n",
       "      <td>2017-09-13 16:30:39</td>\n",
       "      <td>3879043729920840203</td>\n",
       "      <td>Windows</td>\n",
       "      <td>desktop</td>\n",
       "      <td>Chrome</td>\n",
       "      <td>C</td>\n",
       "      <td>-4157417249875967771</td>\n",
       "    </tr>\n",
       "    <tr>\n",
       "      <th>998471017524245573</th>\n",
       "      <td>[{'id': -4553141046227747134, 'price': 154.9, ...</td>\n",
       "      <td>2017-09-13 16:14:05</td>\n",
       "      <td>-5389786785786592819</td>\n",
       "      <td>Windows</td>\n",
       "      <td>desktop</td>\n",
       "      <td>Chrome</td>\n",
       "      <td>G</td>\n",
       "      <td>-2382791529923951593</td>\n",
       "    </tr>\n",
       "    <tr>\n",
       "      <th>-8392062821901812660</th>\n",
       "      <td>[{'id': -5154934163428414730, 'price': 74.99, ...</td>\n",
       "      <td>2017-09-13 16:34:50</td>\n",
       "      <td>-3978845478002365252</td>\n",
       "      <td>Windows</td>\n",
       "      <td>desktop</td>\n",
       "      <td>Chrome</td>\n",
       "      <td>B</td>\n",
       "      <td>-7474144324138992870</td>\n",
       "    </tr>\n",
       "    <tr>\n",
       "      <th>-1437509789217736858</th>\n",
       "      <td>[{'id': 7311257587267350768, 'price': 359.99, ...</td>\n",
       "      <td>2017-09-13 16:30:41</td>\n",
       "      <td>-4978600350686100027</td>\n",
       "      <td>Android</td>\n",
       "      <td>mobile</td>\n",
       "      <td>Chrome</td>\n",
       "      <td>B</td>\n",
       "      <td>3836039149292236146</td>\n",
       "    </tr>\n",
       "  </tbody>\n",
       "</table>\n",
       "</div>"
      ],
      "text/plain": [
       "                                                                  items  \\\n",
       "id                                                                        \n",
       "-8468716808217914046  [{'id': -2946697713091517060, 'price': 99.99, ...   \n",
       " 103257389481310034   [{'id': -7444430477752553485, 'price': 86.24, ...   \n",
       " 998471017524245573   [{'id': -4553141046227747134, 'price': 154.9, ...   \n",
       "-8392062821901812660  [{'id': -5154934163428414730, 'price': 74.99, ...   \n",
       "-1437509789217736858  [{'id': 7311257587267350768, 'price': 359.99, ...   \n",
       "\n",
       "                               timestamp              user_id       os  \\\n",
       "id                                                                       \n",
       "-8468716808217914046 2017-09-13 16:12:46   787012871705135056  Windows   \n",
       " 103257389481310034  2017-09-13 16:30:39  3879043729920840203  Windows   \n",
       " 998471017524245573  2017-09-13 16:14:05 -5389786785786592819  Windows   \n",
       "-8392062821901812660 2017-09-13 16:34:50 -3978845478002365252  Windows   \n",
       "-1437509789217736858 2017-09-13 16:30:41 -4978600350686100027  Android   \n",
       "\n",
       "                       source browser group               session  \n",
       "id                                                                 \n",
       "-8468716808217914046  desktop  Chrome     F  -8514449600553721711  \n",
       " 103257389481310034   desktop  Chrome     C  -4157417249875967771  \n",
       " 998471017524245573   desktop  Chrome     G  -2382791529923951593  \n",
       "-8392062821901812660  desktop  Chrome     B  -7474144324138992870  \n",
       "-1437509789217736858   mobile  Chrome     B   3836039149292236146  "
      ]
     },
     "execution_count": 12,
     "metadata": {},
     "output_type": "execute_result"
    }
   ],
   "source": [
    "df_transactions.head()"
   ]
  },
  {
   "cell_type": "code",
   "execution_count": 13,
   "metadata": {},
   "outputs": [
    {
     "data": {
      "text/plain": [
       "[{'id': -7444430477752553485, 'price': 86.24, 'quantity': 1.0},\n",
       " {'id': -1593531750981905395, 'price': 29.99, 'quantity': 1.0},\n",
       " {'id': -1593531750981905395, 'price': 29.99, 'quantity': 1.0}]"
      ]
     },
     "execution_count": 13,
     "metadata": {},
     "output_type": "execute_result"
    }
   ],
   "source": [
    "df_transactions.iloc[1]['items']"
   ]
  },
  {
   "cell_type": "code",
   "execution_count": 14,
   "metadata": {},
   "outputs": [],
   "source": [
    "def calculate_revenue(items):\n",
    "    revenue = 0.0\n",
    "    for item in items:\n",
    "        revenue = revenue + (item['quantity'] * item['price'])\n",
    "    return revenue"
   ]
  },
  {
   "cell_type": "code",
   "execution_count": 15,
   "metadata": {},
   "outputs": [],
   "source": [
    "df_transactions['revenue'] = df_transactions['items'].map(calculate_revenue)"
   ]
  },
  {
   "cell_type": "code",
   "execution_count": 16,
   "metadata": {},
   "outputs": [
    {
     "data": {
      "text/html": [
       "<div>\n",
       "<style scoped>\n",
       "    .dataframe tbody tr th:only-of-type {\n",
       "        vertical-align: middle;\n",
       "    }\n",
       "\n",
       "    .dataframe tbody tr th {\n",
       "        vertical-align: top;\n",
       "    }\n",
       "\n",
       "    .dataframe thead th {\n",
       "        text-align: right;\n",
       "    }\n",
       "</style>\n",
       "<table border=\"1\" class=\"dataframe\">\n",
       "  <thead>\n",
       "    <tr style=\"text-align: right;\">\n",
       "      <th></th>\n",
       "      <th>items</th>\n",
       "      <th>timestamp</th>\n",
       "      <th>user_id</th>\n",
       "      <th>os</th>\n",
       "      <th>source</th>\n",
       "      <th>browser</th>\n",
       "      <th>group</th>\n",
       "      <th>session</th>\n",
       "      <th>revenue</th>\n",
       "    </tr>\n",
       "    <tr>\n",
       "      <th>id</th>\n",
       "      <th></th>\n",
       "      <th></th>\n",
       "      <th></th>\n",
       "      <th></th>\n",
       "      <th></th>\n",
       "      <th></th>\n",
       "      <th></th>\n",
       "      <th></th>\n",
       "      <th></th>\n",
       "    </tr>\n",
       "  </thead>\n",
       "  <tbody>\n",
       "    <tr>\n",
       "      <th>-8468716808217914046</th>\n",
       "      <td>[{'id': -2946697713091517060, 'price': 99.99, ...</td>\n",
       "      <td>2017-09-13 16:12:46</td>\n",
       "      <td>787012871705135056</td>\n",
       "      <td>Windows</td>\n",
       "      <td>desktop</td>\n",
       "      <td>Chrome</td>\n",
       "      <td>F</td>\n",
       "      <td>-8514449600553721711</td>\n",
       "      <td>99.99</td>\n",
       "    </tr>\n",
       "    <tr>\n",
       "      <th>103257389481310034</th>\n",
       "      <td>[{'id': -7444430477752553485, 'price': 86.24, ...</td>\n",
       "      <td>2017-09-13 16:30:39</td>\n",
       "      <td>3879043729920840203</td>\n",
       "      <td>Windows</td>\n",
       "      <td>desktop</td>\n",
       "      <td>Chrome</td>\n",
       "      <td>C</td>\n",
       "      <td>-4157417249875967771</td>\n",
       "      <td>146.22</td>\n",
       "    </tr>\n",
       "    <tr>\n",
       "      <th>998471017524245573</th>\n",
       "      <td>[{'id': -4553141046227747134, 'price': 154.9, ...</td>\n",
       "      <td>2017-09-13 16:14:05</td>\n",
       "      <td>-5389786785786592819</td>\n",
       "      <td>Windows</td>\n",
       "      <td>desktop</td>\n",
       "      <td>Chrome</td>\n",
       "      <td>G</td>\n",
       "      <td>-2382791529923951593</td>\n",
       "      <td>154.90</td>\n",
       "    </tr>\n",
       "    <tr>\n",
       "      <th>-8392062821901812660</th>\n",
       "      <td>[{'id': -5154934163428414730, 'price': 74.99, ...</td>\n",
       "      <td>2017-09-13 16:34:50</td>\n",
       "      <td>-3978845478002365252</td>\n",
       "      <td>Windows</td>\n",
       "      <td>desktop</td>\n",
       "      <td>Chrome</td>\n",
       "      <td>B</td>\n",
       "      <td>-7474144324138992870</td>\n",
       "      <td>199.96</td>\n",
       "    </tr>\n",
       "    <tr>\n",
       "      <th>-1437509789217736858</th>\n",
       "      <td>[{'id': 7311257587267350768, 'price': 359.99, ...</td>\n",
       "      <td>2017-09-13 16:30:41</td>\n",
       "      <td>-4978600350686100027</td>\n",
       "      <td>Android</td>\n",
       "      <td>mobile</td>\n",
       "      <td>Chrome</td>\n",
       "      <td>B</td>\n",
       "      <td>3836039149292236146</td>\n",
       "      <td>359.99</td>\n",
       "    </tr>\n",
       "  </tbody>\n",
       "</table>\n",
       "</div>"
      ],
      "text/plain": [
       "                                                                  items  \\\n",
       "id                                                                        \n",
       "-8468716808217914046  [{'id': -2946697713091517060, 'price': 99.99, ...   \n",
       " 103257389481310034   [{'id': -7444430477752553485, 'price': 86.24, ...   \n",
       " 998471017524245573   [{'id': -4553141046227747134, 'price': 154.9, ...   \n",
       "-8392062821901812660  [{'id': -5154934163428414730, 'price': 74.99, ...   \n",
       "-1437509789217736858  [{'id': 7311257587267350768, 'price': 359.99, ...   \n",
       "\n",
       "                               timestamp              user_id       os  \\\n",
       "id                                                                       \n",
       "-8468716808217914046 2017-09-13 16:12:46   787012871705135056  Windows   \n",
       " 103257389481310034  2017-09-13 16:30:39  3879043729920840203  Windows   \n",
       " 998471017524245573  2017-09-13 16:14:05 -5389786785786592819  Windows   \n",
       "-8392062821901812660 2017-09-13 16:34:50 -3978845478002365252  Windows   \n",
       "-1437509789217736858 2017-09-13 16:30:41 -4978600350686100027  Android   \n",
       "\n",
       "                       source browser group               session  revenue  \n",
       "id                                                                          \n",
       "-8468716808217914046  desktop  Chrome     F  -8514449600553721711    99.99  \n",
       " 103257389481310034   desktop  Chrome     C  -4157417249875967771   146.22  \n",
       " 998471017524245573   desktop  Chrome     G  -2382791529923951593   154.90  \n",
       "-8392062821901812660  desktop  Chrome     B  -7474144324138992870   199.96  \n",
       "-1437509789217736858   mobile  Chrome     B   3836039149292236146   359.99  "
      ]
     },
     "execution_count": 16,
     "metadata": {},
     "output_type": "execute_result"
    }
   ],
   "source": [
    "df_transactions.head()"
   ]
  },
  {
   "cell_type": "markdown",
   "metadata": {},
   "source": [
    "## Revenue per transaction (RPT) by group"
   ]
  },
  {
   "cell_type": "code",
   "execution_count": 21,
   "metadata": {},
   "outputs": [],
   "source": [
    "df_revenue_per_transaction = pd.DataFrame(df_transactions.groupby('group')['revenue'].agg(['sum', 'count']))"
   ]
  },
  {
   "cell_type": "code",
   "execution_count": 22,
   "metadata": {},
   "outputs": [],
   "source": [
    "df_revenue_per_transaction['RPT'] = df_revenue_per_transaction['sum'] / df_revenue_per_transaction['count']"
   ]
  },
  {
   "cell_type": "code",
   "execution_count": 91,
   "metadata": {},
   "outputs": [
    {
     "data": {
      "text/html": [
       "<div>\n",
       "<style scoped>\n",
       "    .dataframe tbody tr th:only-of-type {\n",
       "        vertical-align: middle;\n",
       "    }\n",
       "\n",
       "    .dataframe tbody tr th {\n",
       "        vertical-align: top;\n",
       "    }\n",
       "\n",
       "    .dataframe thead th {\n",
       "        text-align: right;\n",
       "    }\n",
       "</style>\n",
       "<table border=\"1\" class=\"dataframe\">\n",
       "  <thead>\n",
       "    <tr style=\"text-align: right;\">\n",
       "      <th></th>\n",
       "      <th>sum</th>\n",
       "      <th>count</th>\n",
       "      <th>RPT</th>\n",
       "    </tr>\n",
       "    <tr>\n",
       "      <th>group</th>\n",
       "      <th></th>\n",
       "      <th></th>\n",
       "      <th></th>\n",
       "    </tr>\n",
       "  </thead>\n",
       "  <tbody>\n",
       "    <tr>\n",
       "      <th>E</th>\n",
       "      <td>2765632.60</td>\n",
       "      <td>14001</td>\n",
       "      <td>197.531076</td>\n",
       "    </tr>\n",
       "    <tr>\n",
       "      <th>C</th>\n",
       "      <td>2665391.63</td>\n",
       "      <td>13558</td>\n",
       "      <td>196.591800</td>\n",
       "    </tr>\n",
       "    <tr>\n",
       "      <th>F</th>\n",
       "      <td>2588891.64</td>\n",
       "      <td>13305</td>\n",
       "      <td>194.580356</td>\n",
       "    </tr>\n",
       "    <tr>\n",
       "      <th>H</th>\n",
       "      <td>2652356.09</td>\n",
       "      <td>14083</td>\n",
       "      <td>188.337434</td>\n",
       "    </tr>\n",
       "    <tr>\n",
       "      <th>D</th>\n",
       "      <td>2628788.12</td>\n",
       "      <td>14000</td>\n",
       "      <td>187.770580</td>\n",
       "    </tr>\n",
       "    <tr>\n",
       "      <th>A</th>\n",
       "      <td>2565705.21</td>\n",
       "      <td>13703</td>\n",
       "      <td>187.236752</td>\n",
       "    </tr>\n",
       "    <tr>\n",
       "      <th>G</th>\n",
       "      <td>2381157.67</td>\n",
       "      <td>12982</td>\n",
       "      <td>183.419941</td>\n",
       "    </tr>\n",
       "    <tr>\n",
       "      <th>B</th>\n",
       "      <td>2461017.10</td>\n",
       "      <td>13562</td>\n",
       "      <td>181.464172</td>\n",
       "    </tr>\n",
       "  </tbody>\n",
       "</table>\n",
       "</div>"
      ],
      "text/plain": [
       "              sum  count         RPT\n",
       "group                               \n",
       "E      2765632.60  14001  197.531076\n",
       "C      2665391.63  13558  196.591800\n",
       "F      2588891.64  13305  194.580356\n",
       "H      2652356.09  14083  188.337434\n",
       "D      2628788.12  14000  187.770580\n",
       "A      2565705.21  13703  187.236752\n",
       "G      2381157.67  12982  183.419941\n",
       "B      2461017.10  13562  181.464172"
      ]
     },
     "execution_count": 91,
     "metadata": {},
     "output_type": "execute_result"
    }
   ],
   "source": [
    "df_revenue_per_transaction.sort_values(by='RPT', ascending=False)"
   ]
  },
  {
   "cell_type": "code",
   "execution_count": 101,
   "metadata": {},
   "outputs": [
    {
     "name": "stdout",
     "output_type": "stream",
     "text": [
      "Group E had the most Revenue per Transaction ratio: 197.531076352\n"
     ]
    }
   ],
   "source": [
    "print('Group {} had the most Revenue per Transaction ratio:'.format(df_revenue_per_transaction.sort_values(by='RPT', ascending=False).iloc[0].name), df_revenue_per_transaction.sort_values(by='RPT', ascending=False).iloc[0].RPT)"
   ]
  },
  {
   "cell_type": "code",
   "execution_count": 103,
   "metadata": {},
   "outputs": [
    {
     "name": "stdout",
     "output_type": "stream",
     "text": [
      "Group E had the most revenue: 2765632.6\n"
     ]
    }
   ],
   "source": [
    "print('Group {} had the most revenue:'.format(df_revenue_per_transaction.sort_values(by='sum', ascending=False).iloc[0].name), df_revenue_per_transaction.sort_values(by='sum', ascending=False).iloc[0]['sum'])"
   ]
  },
  {
   "cell_type": "code",
   "execution_count": 274,
   "metadata": {},
   "outputs": [
    {
     "name": "stdout",
     "output_type": "stream",
     "text": [
      "Group H had the most transactions: 14083.0\n"
     ]
    }
   ],
   "source": [
    "print('Group {} had the most transactions:'.format(df_revenue_per_transaction.sort_values(by='count', ascending=False).iloc[0].name), df_revenue_per_transaction.sort_values(by='count', ascending=False).iloc[0]['count'])"
   ]
  },
  {
   "cell_type": "markdown",
   "metadata": {},
   "source": [
    "Group E seems to be the most effective group."
   ]
  },
  {
   "cell_type": "markdown",
   "metadata": {},
   "source": [
    "## Revenue / Visitor"
   ]
  },
  {
   "cell_type": "code",
   "execution_count": 55,
   "metadata": {},
   "outputs": [],
   "source": [
    "df_visitors = df_pageViews.drop_duplicates()"
   ]
  },
  {
   "cell_type": "code",
   "execution_count": 81,
   "metadata": {},
   "outputs": [
    {
     "name": "stdout",
     "output_type": "stream",
     "text": [
      "Number of duplicated pageViews values: 378821\n"
     ]
    }
   ],
   "source": [
    "print('Number of duplicated pageViews values:', len(df_pageViews) - len(df_visitors))"
   ]
  },
  {
   "cell_type": "code",
   "execution_count": 306,
   "metadata": {},
   "outputs": [
    {
     "name": "stdout",
     "output_type": "stream",
     "text": [
      "Revenue per visitor: 0.690558181304\n"
     ]
    }
   ],
   "source": [
    "revenue_per_visitor = df_transactions.revenue.sum() / len(df_visitors)\n",
    "print('Revenue per visitor:', revenue_per_visitor)"
   ]
  },
  {
   "cell_type": "markdown",
   "metadata": {},
   "source": [
    "### Visitors info"
   ]
  },
  {
   "cell_type": "code",
   "execution_count": 307,
   "metadata": {},
   "outputs": [
    {
     "data": {
      "text/html": [
       "<div>\n",
       "<style scoped>\n",
       "    .dataframe tbody tr th:only-of-type {\n",
       "        vertical-align: middle;\n",
       "    }\n",
       "\n",
       "    .dataframe tbody tr th {\n",
       "        vertical-align: top;\n",
       "    }\n",
       "\n",
       "    .dataframe thead th {\n",
       "        text-align: right;\n",
       "    }\n",
       "</style>\n",
       "<table border=\"1\" class=\"dataframe\">\n",
       "  <thead>\n",
       "    <tr style=\"text-align: right;\">\n",
       "      <th></th>\n",
       "      <th>count</th>\n",
       "    </tr>\n",
       "    <tr>\n",
       "      <th>os</th>\n",
       "      <th></th>\n",
       "    </tr>\n",
       "  </thead>\n",
       "  <tbody>\n",
       "    <tr>\n",
       "      <th>Windows</th>\n",
       "      <td>18069565</td>\n",
       "    </tr>\n",
       "    <tr>\n",
       "      <th>Android</th>\n",
       "      <td>8893196</td>\n",
       "    </tr>\n",
       "    <tr>\n",
       "      <th>iOS</th>\n",
       "      <td>2190280</td>\n",
       "    </tr>\n",
       "    <tr>\n",
       "      <th>Mac</th>\n",
       "      <td>402740</td>\n",
       "    </tr>\n",
       "    <tr>\n",
       "      <th>Linux</th>\n",
       "      <td>293469</td>\n",
       "    </tr>\n",
       "    <tr>\n",
       "      <th>Ubuntu</th>\n",
       "      <td>95893</td>\n",
       "    </tr>\n",
       "    <tr>\n",
       "      <th>Chrome</th>\n",
       "      <td>28895</td>\n",
       "    </tr>\n",
       "    <tr>\n",
       "      <th>Other</th>\n",
       "      <td>10757</td>\n",
       "    </tr>\n",
       "    <tr>\n",
       "      <th>Fedora</th>\n",
       "      <td>2729</td>\n",
       "    </tr>\n",
       "    <tr>\n",
       "      <th>BlackBerry</th>\n",
       "      <td>591</td>\n",
       "    </tr>\n",
       "    <tr>\n",
       "      <th>Debian</th>\n",
       "      <td>356</td>\n",
       "    </tr>\n",
       "    <tr>\n",
       "      <th>FreeBSD</th>\n",
       "      <td>91</td>\n",
       "    </tr>\n",
       "    <tr>\n",
       "      <th>Firefox</th>\n",
       "      <td>47</td>\n",
       "    </tr>\n",
       "    <tr>\n",
       "      <th>Symbian</th>\n",
       "      <td>40</td>\n",
       "    </tr>\n",
       "    <tr>\n",
       "      <th>Mandriva</th>\n",
       "      <td>14</td>\n",
       "    </tr>\n",
       "    <tr>\n",
       "      <th>Bada</th>\n",
       "      <td>10</td>\n",
       "    </tr>\n",
       "    <tr>\n",
       "      <th>Symbian^3</th>\n",
       "      <td>10</td>\n",
       "    </tr>\n",
       "    <tr>\n",
       "      <th>OpenBSD</th>\n",
       "      <td>4</td>\n",
       "    </tr>\n",
       "    <tr>\n",
       "      <th>SUSE</th>\n",
       "      <td>4</td>\n",
       "    </tr>\n",
       "    <tr>\n",
       "      <th>Kindle</th>\n",
       "      <td>3</td>\n",
       "    </tr>\n",
       "    <tr>\n",
       "      <th>GoogleTV</th>\n",
       "      <td>1</td>\n",
       "    </tr>\n",
       "    <tr>\n",
       "      <th>Philips</th>\n",
       "      <td>1</td>\n",
       "    </tr>\n",
       "    <tr>\n",
       "      <th>MeeGo</th>\n",
       "      <td>1</td>\n",
       "    </tr>\n",
       "  </tbody>\n",
       "</table>\n",
       "</div>"
      ],
      "text/plain": [
       "               count\n",
       "os                  \n",
       "Windows     18069565\n",
       "Android      8893196\n",
       "iOS          2190280\n",
       "Mac           402740\n",
       "Linux         293469\n",
       "Ubuntu         95893\n",
       "Chrome         28895\n",
       "Other          10757\n",
       "Fedora          2729\n",
       "BlackBerry       591\n",
       "Debian           356\n",
       "FreeBSD           91\n",
       "Firefox           47\n",
       "Symbian           40\n",
       "Mandriva          14\n",
       "Bada              10\n",
       "Symbian^3         10\n",
       "OpenBSD            4\n",
       "SUSE               4\n",
       "Kindle             3\n",
       "GoogleTV           1\n",
       "Philips            1\n",
       "MeeGo              1"
      ]
     },
     "execution_count": 307,
     "metadata": {},
     "output_type": "execute_result"
    }
   ],
   "source": [
    "visitor_by_os = pd.DataFrame(df_visitors.groupby('os')['user_id'].count())\n",
    "visitor_by_os.columns = ['count']\n",
    "visitor_by_os.sort_values(by='count', ascending=False)"
   ]
  },
  {
   "cell_type": "code",
   "execution_count": 310,
   "metadata": {},
   "outputs": [
    {
     "data": {
      "text/html": [
       "<div>\n",
       "<style scoped>\n",
       "    .dataframe tbody tr th:only-of-type {\n",
       "        vertical-align: middle;\n",
       "    }\n",
       "\n",
       "    .dataframe tbody tr th {\n",
       "        vertical-align: top;\n",
       "    }\n",
       "\n",
       "    .dataframe thead th {\n",
       "        text-align: right;\n",
       "    }\n",
       "</style>\n",
       "<table border=\"1\" class=\"dataframe\">\n",
       "  <thead>\n",
       "    <tr style=\"text-align: right;\">\n",
       "      <th></th>\n",
       "      <th>count</th>\n",
       "    </tr>\n",
       "    <tr>\n",
       "      <th>browser</th>\n",
       "      <th></th>\n",
       "    </tr>\n",
       "  </thead>\n",
       "  <tbody>\n",
       "    <tr>\n",
       "      <th>Chrome</th>\n",
       "      <td>25046200</td>\n",
       "    </tr>\n",
       "    <tr>\n",
       "      <th>Safari</th>\n",
       "      <td>2130880</td>\n",
       "    </tr>\n",
       "    <tr>\n",
       "      <th>Firefox</th>\n",
       "      <td>1923131</td>\n",
       "    </tr>\n",
       "    <tr>\n",
       "      <th>IE</th>\n",
       "      <td>398244</td>\n",
       "    </tr>\n",
       "    <tr>\n",
       "      <th>Opera</th>\n",
       "      <td>191603</td>\n",
       "    </tr>\n",
       "    <tr>\n",
       "      <th>PhantomJS</th>\n",
       "      <td>125281</td>\n",
       "    </tr>\n",
       "    <tr>\n",
       "      <th>Android</th>\n",
       "      <td>122135</td>\n",
       "    </tr>\n",
       "    <tr>\n",
       "      <th>Chromium</th>\n",
       "      <td>19869</td>\n",
       "    </tr>\n",
       "    <tr>\n",
       "      <th>UC</th>\n",
       "      <td>13613</td>\n",
       "    </tr>\n",
       "    <tr>\n",
       "      <th>Other</th>\n",
       "      <td>6454</td>\n",
       "    </tr>\n",
       "    <tr>\n",
       "      <th>Maxthon</th>\n",
       "      <td>3201</td>\n",
       "    </tr>\n",
       "    <tr>\n",
       "      <th>GomezA</th>\n",
       "      <td>2997</td>\n",
       "    </tr>\n",
       "    <tr>\n",
       "      <th>Yandex</th>\n",
       "      <td>2195</td>\n",
       "    </tr>\n",
       "    <tr>\n",
       "      <th>Iceweasel</th>\n",
       "      <td>780</td>\n",
       "    </tr>\n",
       "    <tr>\n",
       "      <th>Pale</th>\n",
       "      <td>602</td>\n",
       "    </tr>\n",
       "    <tr>\n",
       "      <th>BlackBerry</th>\n",
       "      <td>590</td>\n",
       "    </tr>\n",
       "    <tr>\n",
       "      <th>WebKit</th>\n",
       "      <td>475</td>\n",
       "    </tr>\n",
       "    <tr>\n",
       "      <th>SeaMonkey</th>\n",
       "      <td>130</td>\n",
       "    </tr>\n",
       "    <tr>\n",
       "      <th>AppleMail</th>\n",
       "      <td>121</td>\n",
       "    </tr>\n",
       "    <tr>\n",
       "      <th>NetFront</th>\n",
       "      <td>47</td>\n",
       "    </tr>\n",
       "    <tr>\n",
       "      <th>YandexBot</th>\n",
       "      <td>25</td>\n",
       "    </tr>\n",
       "    <tr>\n",
       "      <th>Avant</th>\n",
       "      <td>25</td>\n",
       "    </tr>\n",
       "    <tr>\n",
       "      <th>BingPreview</th>\n",
       "      <td>18</td>\n",
       "    </tr>\n",
       "    <tr>\n",
       "      <th>HbbTV</th>\n",
       "      <td>15</td>\n",
       "    </tr>\n",
       "    <tr>\n",
       "      <th>Iron</th>\n",
       "      <td>13</td>\n",
       "    </tr>\n",
       "    <tr>\n",
       "      <th>Nokia</th>\n",
       "      <td>11</td>\n",
       "    </tr>\n",
       "    <tr>\n",
       "      <th>Dolfin</th>\n",
       "      <td>10</td>\n",
       "    </tr>\n",
       "    <tr>\n",
       "      <th>QQ</th>\n",
       "      <td>8</td>\n",
       "    </tr>\n",
       "    <tr>\n",
       "      <th>Sogou</th>\n",
       "      <td>7</td>\n",
       "    </tr>\n",
       "    <tr>\n",
       "      <th>Rekonq</th>\n",
       "      <td>5</td>\n",
       "    </tr>\n",
       "    <tr>\n",
       "      <th>Python</th>\n",
       "      <td>4</td>\n",
       "    </tr>\n",
       "    <tr>\n",
       "      <th>Kindle</th>\n",
       "      <td>3</td>\n",
       "    </tr>\n",
       "    <tr>\n",
       "      <th>K-Meleon</th>\n",
       "      <td>2</td>\n",
       "    </tr>\n",
       "    <tr>\n",
       "      <th>Baidu</th>\n",
       "      <td>1</td>\n",
       "    </tr>\n",
       "    <tr>\n",
       "      <th>Slurp</th>\n",
       "      <td>1</td>\n",
       "    </tr>\n",
       "    <tr>\n",
       "      <th>Epiphany</th>\n",
       "      <td>1</td>\n",
       "    </tr>\n",
       "  </tbody>\n",
       "</table>\n",
       "</div>"
      ],
      "text/plain": [
       "                count\n",
       "browser              \n",
       "Chrome       25046200\n",
       "Safari        2130880\n",
       "Firefox       1923131\n",
       "IE             398244\n",
       "Opera          191603\n",
       "PhantomJS      125281\n",
       "Android        122135\n",
       "Chromium        19869\n",
       "UC              13613\n",
       "Other            6454\n",
       "Maxthon          3201\n",
       "GomezA           2997\n",
       "Yandex           2195\n",
       "Iceweasel         780\n",
       "Pale              602\n",
       "BlackBerry        590\n",
       "WebKit            475\n",
       "SeaMonkey         130\n",
       "AppleMail         121\n",
       "NetFront           47\n",
       "YandexBot          25\n",
       "Avant              25\n",
       "BingPreview        18\n",
       "HbbTV              15\n",
       "Iron               13\n",
       "Nokia              11\n",
       "Dolfin             10\n",
       "QQ                  8\n",
       "Sogou               7\n",
       "Rekonq              5\n",
       "Python              4\n",
       "Kindle              3\n",
       "K-Meleon            2\n",
       "Baidu               1\n",
       "Slurp               1\n",
       "Epiphany            1"
      ]
     },
     "execution_count": 310,
     "metadata": {},
     "output_type": "execute_result"
    }
   ],
   "source": [
    "visitor_by_browser = pd.DataFrame(df_visitors.groupby('browser')['user_id'].count())\n",
    "visitor_by_browser.columns = ['count']\n",
    "visitor_by_browser.sort_values(by='count', ascending=False)"
   ]
  },
  {
   "cell_type": "code",
   "execution_count": 312,
   "metadata": {},
   "outputs": [
    {
     "data": {
      "text/html": [
       "<div>\n",
       "<style scoped>\n",
       "    .dataframe tbody tr th:only-of-type {\n",
       "        vertical-align: middle;\n",
       "    }\n",
       "\n",
       "    .dataframe tbody tr th {\n",
       "        vertical-align: top;\n",
       "    }\n",
       "\n",
       "    .dataframe thead th {\n",
       "        text-align: right;\n",
       "    }\n",
       "</style>\n",
       "<table border=\"1\" class=\"dataframe\">\n",
       "  <thead>\n",
       "    <tr style=\"text-align: right;\">\n",
       "      <th></th>\n",
       "      <th>count</th>\n",
       "    </tr>\n",
       "    <tr>\n",
       "      <th>source</th>\n",
       "      <th></th>\n",
       "    </tr>\n",
       "  </thead>\n",
       "  <tbody>\n",
       "    <tr>\n",
       "      <th>desktop</th>\n",
       "      <td>18781526</td>\n",
       "    </tr>\n",
       "    <tr>\n",
       "      <th>mobile</th>\n",
       "      <td>11206962</td>\n",
       "    </tr>\n",
       "  </tbody>\n",
       "</table>\n",
       "</div>"
      ],
      "text/plain": [
       "            count\n",
       "source           \n",
       "desktop  18781526\n",
       "mobile   11206962"
      ]
     },
     "execution_count": 312,
     "metadata": {},
     "output_type": "execute_result"
    }
   ],
   "source": [
    "visitor_by_source = pd.DataFrame(df_visitors.groupby('source')['user_id'].count())\n",
    "visitor_by_source.columns = ['count']\n",
    "visitor_by_source.sort_values(by='count', ascending=False)"
   ]
  },
  {
   "cell_type": "code",
   "execution_count": 314,
   "metadata": {},
   "outputs": [
    {
     "data": {
      "text/html": [
       "<div>\n",
       "<style scoped>\n",
       "    .dataframe tbody tr th:only-of-type {\n",
       "        vertical-align: middle;\n",
       "    }\n",
       "\n",
       "    .dataframe tbody tr th {\n",
       "        vertical-align: top;\n",
       "    }\n",
       "\n",
       "    .dataframe thead th {\n",
       "        text-align: right;\n",
       "    }\n",
       "</style>\n",
       "<table border=\"1\" class=\"dataframe\">\n",
       "  <thead>\n",
       "    <tr style=\"text-align: right;\">\n",
       "      <th></th>\n",
       "      <th>count</th>\n",
       "    </tr>\n",
       "    <tr>\n",
       "      <th>group</th>\n",
       "      <th></th>\n",
       "    </tr>\n",
       "  </thead>\n",
       "  <tbody>\n",
       "    <tr>\n",
       "      <th>E</th>\n",
       "      <td>3780878</td>\n",
       "    </tr>\n",
       "    <tr>\n",
       "      <th>A</th>\n",
       "      <td>3763073</td>\n",
       "    </tr>\n",
       "    <tr>\n",
       "      <th>H</th>\n",
       "      <td>3756430</td>\n",
       "    </tr>\n",
       "    <tr>\n",
       "      <th>C</th>\n",
       "      <td>3750075</td>\n",
       "    </tr>\n",
       "    <tr>\n",
       "      <th>D</th>\n",
       "      <td>3743560</td>\n",
       "    </tr>\n",
       "    <tr>\n",
       "      <th>B</th>\n",
       "      <td>3741302</td>\n",
       "    </tr>\n",
       "    <tr>\n",
       "      <th>F</th>\n",
       "      <td>3735017</td>\n",
       "    </tr>\n",
       "    <tr>\n",
       "      <th>G</th>\n",
       "      <td>3718362</td>\n",
       "    </tr>\n",
       "  </tbody>\n",
       "</table>\n",
       "</div>"
      ],
      "text/plain": [
       "         count\n",
       "group         \n",
       "E      3780878\n",
       "A      3763073\n",
       "H      3756430\n",
       "C      3750075\n",
       "D      3743560\n",
       "B      3741302\n",
       "F      3735017\n",
       "G      3718362"
      ]
     },
     "execution_count": 314,
     "metadata": {},
     "output_type": "execute_result"
    }
   ],
   "source": [
    "visitor_by_group = pd.DataFrame(df_visitors.groupby('group')['user_id'].count())\n",
    "visitor_by_group.columns = ['count']\n",
    "visitor_by_group.sort_values(by='count', ascending=False)"
   ]
  },
  {
   "cell_type": "markdown",
   "metadata": {},
   "source": [
    "## Conversion"
   ]
  },
  {
   "cell_type": "code",
   "execution_count": 82,
   "metadata": {},
   "outputs": [
    {
     "name": "stdout",
     "output_type": "stream",
     "text": [
      "Is the total of transactions the same as the sum of all the transactions grouped by Group? True\n"
     ]
    }
   ],
   "source": [
    "print('Is the total of transactions the same as the sum of all the transactions grouped by Group?', len(df_transactions) == df_revenue_per_transaction['count'].sum())"
   ]
  },
  {
   "cell_type": "code",
   "execution_count": 84,
   "metadata": {},
   "outputs": [
    {
     "name": "stdout",
     "output_type": "stream",
     "text": [
      "Conversion: 0.0036411718721890453\n"
     ]
    }
   ],
   "source": [
    "print('Conversion:', len(df_transactions) / len(df_visitors))"
   ]
  },
  {
   "cell_type": "markdown",
   "metadata": {},
   "source": [
    "## Average order value (AOV)"
   ]
  },
  {
   "cell_type": "code",
   "execution_count": 85,
   "metadata": {},
   "outputs": [
    {
     "name": "stdout",
     "output_type": "stream",
     "text": [
      "Average order value (AOV): 189.652728721\n"
     ]
    }
   ],
   "source": [
    "print('Average order value (AOV):', df_transactions.revenue.sum() / len(df_transactions))"
   ]
  },
  {
   "cell_type": "markdown",
   "metadata": {},
   "source": [
    "## Other Metrics"
   ]
  },
  {
   "cell_type": "markdown",
   "metadata": {},
   "source": [
    "### Total revenue"
   ]
  },
  {
   "cell_type": "code",
   "execution_count": 121,
   "metadata": {},
   "outputs": [
    {
     "name": "stdout",
     "output_type": "stream",
     "text": [
      "Total revenue: 20708940.06\n"
     ]
    }
   ],
   "source": [
    "print('Total revenue:', df_transactions.revenue.sum())"
   ]
  },
  {
   "cell_type": "markdown",
   "metadata": {},
   "source": [
    "### AlgRef by impressions"
   ]
  },
  {
   "cell_type": "code",
   "execution_count": 87,
   "metadata": {},
   "outputs": [
    {
     "data": {
      "text/html": [
       "<div>\n",
       "<style scoped>\n",
       "    .dataframe tbody tr th:only-of-type {\n",
       "        vertical-align: middle;\n",
       "    }\n",
       "\n",
       "    .dataframe tbody tr th {\n",
       "        vertical-align: top;\n",
       "    }\n",
       "\n",
       "    .dataframe thead th {\n",
       "        text-align: right;\n",
       "    }\n",
       "</style>\n",
       "<table border=\"1\" class=\"dataframe\">\n",
       "  <thead>\n",
       "    <tr style=\"text-align: right;\">\n",
       "      <th></th>\n",
       "      <th>algRef</th>\n",
       "      <th>feature</th>\n",
       "      <th>id</th>\n",
       "      <th>page</th>\n",
       "      <th>products</th>\n",
       "      <th>timestamp</th>\n",
       "      <th>user_id</th>\n",
       "      <th>os</th>\n",
       "      <th>source</th>\n",
       "      <th>browser</th>\n",
       "      <th>group</th>\n",
       "      <th>session</th>\n",
       "    </tr>\n",
       "  </thead>\n",
       "  <tbody>\n",
       "    <tr>\n",
       "      <th>0</th>\n",
       "      <td>5321418768591000592</td>\n",
       "      <td>-7828424103269057573</td>\n",
       "      <td>8765249957191</td>\n",
       "      <td>product</td>\n",
       "      <td>[3653391013242405988, 3492582560532754791]</td>\n",
       "      <td>2017-08-26 00:05:22</td>\n",
       "      <td>2077291510979737164</td>\n",
       "      <td>Android</td>\n",
       "      <td>mobile</td>\n",
       "      <td>Chrome</td>\n",
       "      <td>G</td>\n",
       "      <td>7849515658654400358</td>\n",
       "    </tr>\n",
       "    <tr>\n",
       "      <th>1</th>\n",
       "      <td>8765249957191</td>\n",
       "      <td>5603092165415881620</td>\n",
       "      <td>8765249957191</td>\n",
       "      <td>search</td>\n",
       "      <td>[1983875142539570898, -1617532069770397932]</td>\n",
       "      <td>2017-08-26 00:05:22</td>\n",
       "      <td>-5794300198289426830</td>\n",
       "      <td>Android</td>\n",
       "      <td>mobile</td>\n",
       "      <td>Chrome</td>\n",
       "      <td>E</td>\n",
       "      <td>-9206771770294839467</td>\n",
       "    </tr>\n",
       "    <tr>\n",
       "      <th>2</th>\n",
       "      <td>-7316380623456322413</td>\n",
       "      <td>5603092165415881620</td>\n",
       "      <td>8765249957191</td>\n",
       "      <td>category</td>\n",
       "      <td>[8345817602690948093, -4685433540937644115]</td>\n",
       "      <td>2017-08-26 00:05:22</td>\n",
       "      <td>-5824671029704807593</td>\n",
       "      <td>Android</td>\n",
       "      <td>mobile</td>\n",
       "      <td>Chrome</td>\n",
       "      <td>B</td>\n",
       "      <td>5469036284027064790</td>\n",
       "    </tr>\n",
       "    <tr>\n",
       "      <th>3</th>\n",
       "      <td>8765249957191</td>\n",
       "      <td>-4092588031201132965</td>\n",
       "      <td>8765249957191</td>\n",
       "      <td>product</td>\n",
       "      <td>[4339435368953319849, -655160631340267337]</td>\n",
       "      <td>2017-08-26 00:05:23</td>\n",
       "      <td>803065015979834204</td>\n",
       "      <td>Android</td>\n",
       "      <td>mobile</td>\n",
       "      <td>Chrome</td>\n",
       "      <td>H</td>\n",
       "      <td>1514327774359276100</td>\n",
       "    </tr>\n",
       "    <tr>\n",
       "      <th>4</th>\n",
       "      <td>8765249957191</td>\n",
       "      <td>-4092588031201132965</td>\n",
       "      <td>8765249957191</td>\n",
       "      <td>product</td>\n",
       "      <td>[2106426664978872773, 1141620332716626693, -64...</td>\n",
       "      <td>2017-08-26 00:05:23</td>\n",
       "      <td>-7681599627122648286</td>\n",
       "      <td>Windows</td>\n",
       "      <td>desktop</td>\n",
       "      <td>Chrome</td>\n",
       "      <td>A</td>\n",
       "      <td>-5014290602732537686</td>\n",
       "    </tr>\n",
       "  </tbody>\n",
       "</table>\n",
       "</div>"
      ],
      "text/plain": [
       "                algRef              feature             id      page  \\\n",
       "0  5321418768591000592 -7828424103269057573  8765249957191   product   \n",
       "1        8765249957191  5603092165415881620  8765249957191    search   \n",
       "2 -7316380623456322413  5603092165415881620  8765249957191  category   \n",
       "3        8765249957191 -4092588031201132965  8765249957191   product   \n",
       "4        8765249957191 -4092588031201132965  8765249957191   product   \n",
       "\n",
       "                                            products           timestamp  \\\n",
       "0         [3653391013242405988, 3492582560532754791] 2017-08-26 00:05:22   \n",
       "1        [1983875142539570898, -1617532069770397932] 2017-08-26 00:05:22   \n",
       "2        [8345817602690948093, -4685433540937644115] 2017-08-26 00:05:22   \n",
       "3         [4339435368953319849, -655160631340267337] 2017-08-26 00:05:23   \n",
       "4  [2106426664978872773, 1141620332716626693, -64... 2017-08-26 00:05:23   \n",
       "\n",
       "               user_id       os   source browser group               session  \n",
       "0  2077291510979737164  Android   mobile  Chrome     G   7849515658654400358  \n",
       "1 -5794300198289426830  Android   mobile  Chrome     E  -9206771770294839467  \n",
       "2 -5824671029704807593  Android   mobile  Chrome     B   5469036284027064790  \n",
       "3   803065015979834204  Android   mobile  Chrome     H   1514327774359276100  \n",
       "4 -7681599627122648286  Windows  desktop  Chrome     A  -5014290602732537686  "
      ]
     },
     "execution_count": 87,
     "metadata": {},
     "output_type": "execute_result"
    }
   ],
   "source": [
    "df_impressions.head()"
   ]
  },
  {
   "cell_type": "code",
   "execution_count": 305,
   "metadata": {},
   "outputs": [
    {
     "data": {
      "text/html": [
       "<div>\n",
       "<style scoped>\n",
       "    .dataframe tbody tr th:only-of-type {\n",
       "        vertical-align: middle;\n",
       "    }\n",
       "\n",
       "    .dataframe tbody tr th {\n",
       "        vertical-align: top;\n",
       "    }\n",
       "\n",
       "    .dataframe thead th {\n",
       "        text-align: right;\n",
       "    }\n",
       "</style>\n",
       "<table border=\"1\" class=\"dataframe\">\n",
       "  <thead>\n",
       "    <tr style=\"text-align: right;\">\n",
       "      <th></th>\n",
       "      <th>count</th>\n",
       "    </tr>\n",
       "    <tr>\n",
       "      <th>algRef</th>\n",
       "      <th></th>\n",
       "    </tr>\n",
       "  </thead>\n",
       "  <tbody>\n",
       "    <tr>\n",
       "      <th>5321418768591000592</th>\n",
       "      <td>7720606</td>\n",
       "    </tr>\n",
       "    <tr>\n",
       "      <th>8765249957191</th>\n",
       "      <td>7139996</td>\n",
       "    </tr>\n",
       "    <tr>\n",
       "      <th>-7316380623456322413</th>\n",
       "      <td>6364701</td>\n",
       "    </tr>\n",
       "    <tr>\n",
       "      <th>-4036572744233045313</th>\n",
       "      <td>3228956</td>\n",
       "    </tr>\n",
       "    <tr>\n",
       "      <th>-8097938104232819077</th>\n",
       "      <td>597978</td>\n",
       "    </tr>\n",
       "    <tr>\n",
       "      <th>6210645274200748928</th>\n",
       "      <td>219459</td>\n",
       "    </tr>\n",
       "    <tr>\n",
       "      <th>-2694931237408746828</th>\n",
       "      <td>199717</td>\n",
       "    </tr>\n",
       "    <tr>\n",
       "      <th>8912499131073959470</th>\n",
       "      <td>166706</td>\n",
       "    </tr>\n",
       "    <tr>\n",
       "      <th>-5699424829365636926</th>\n",
       "      <td>157505</td>\n",
       "    </tr>\n",
       "    <tr>\n",
       "      <th>1253328222863831340</th>\n",
       "      <td>2729</td>\n",
       "    </tr>\n",
       "    <tr>\n",
       "      <th>-2088053587104646233</th>\n",
       "      <td>410</td>\n",
       "    </tr>\n",
       "    <tr>\n",
       "      <th>303635124662084886</th>\n",
       "      <td>4</td>\n",
       "    </tr>\n",
       "  </tbody>\n",
       "</table>\n",
       "</div>"
      ],
      "text/plain": [
       "                        count\n",
       "algRef                       \n",
       " 5321418768591000592  7720606\n",
       " 8765249957191        7139996\n",
       "-7316380623456322413  6364701\n",
       "-4036572744233045313  3228956\n",
       "-8097938104232819077   597978\n",
       " 6210645274200748928   219459\n",
       "-2694931237408746828   199717\n",
       " 8912499131073959470   166706\n",
       "-5699424829365636926   157505\n",
       " 1253328222863831340     2729\n",
       "-2088053587104646233      410\n",
       " 303635124662084886         4"
      ]
     },
     "execution_count": 305,
     "metadata": {},
     "output_type": "execute_result"
    }
   ],
   "source": [
    "algRef_by_impressions = pd.DataFrame(df_impressions.groupby('algRef')['feature'].count())\n",
    "algRef_by_impressions.columns = ['count']\n",
    "algRef_by_impressions.sort_values(by='count', ascending=False)"
   ]
  },
  {
   "cell_type": "code",
   "execution_count": null,
   "metadata": {},
   "outputs": [],
   "source": [
    "x_plot = impressions_by_algRef.index\n",
    "y_plot = impressions_by_algRef['impressions']\n",
    "plot_barchat(x_plot,y_plot,'h','Impressions','Impressions by Algorithm')"
   ]
  },
  {
   "cell_type": "markdown",
   "metadata": {},
   "source": [
    "### Impressions by group"
   ]
  },
  {
   "cell_type": "code",
   "execution_count": 304,
   "metadata": {},
   "outputs": [
    {
     "data": {
      "text/html": [
       "<div>\n",
       "<style scoped>\n",
       "    .dataframe tbody tr th:only-of-type {\n",
       "        vertical-align: middle;\n",
       "    }\n",
       "\n",
       "    .dataframe tbody tr th {\n",
       "        vertical-align: top;\n",
       "    }\n",
       "\n",
       "    .dataframe thead th {\n",
       "        text-align: right;\n",
       "    }\n",
       "</style>\n",
       "<table border=\"1\" class=\"dataframe\">\n",
       "  <thead>\n",
       "    <tr style=\"text-align: right;\">\n",
       "      <th></th>\n",
       "      <th>count</th>\n",
       "    </tr>\n",
       "    <tr>\n",
       "      <th>group</th>\n",
       "      <th></th>\n",
       "    </tr>\n",
       "  </thead>\n",
       "  <tbody>\n",
       "    <tr>\n",
       "      <th>C</th>\n",
       "      <td>3293588</td>\n",
       "    </tr>\n",
       "    <tr>\n",
       "      <th>D</th>\n",
       "      <td>3271689</td>\n",
       "    </tr>\n",
       "    <tr>\n",
       "      <th>H</th>\n",
       "      <td>3259241</td>\n",
       "    </tr>\n",
       "    <tr>\n",
       "      <th>G</th>\n",
       "      <td>3235507</td>\n",
       "    </tr>\n",
       "    <tr>\n",
       "      <th>E</th>\n",
       "      <td>3233634</td>\n",
       "    </tr>\n",
       "    <tr>\n",
       "      <th>F</th>\n",
       "      <td>3180758</td>\n",
       "    </tr>\n",
       "    <tr>\n",
       "      <th>B</th>\n",
       "      <td>3167199</td>\n",
       "    </tr>\n",
       "    <tr>\n",
       "      <th>A</th>\n",
       "      <td>3157151</td>\n",
       "    </tr>\n",
       "  </tbody>\n",
       "</table>\n",
       "</div>"
      ],
      "text/plain": [
       "         count\n",
       "group         \n",
       "C      3293588\n",
       "D      3271689\n",
       "H      3259241\n",
       "G      3235507\n",
       "E      3233634\n",
       "F      3180758\n",
       "B      3167199\n",
       "A      3157151"
      ]
     },
     "execution_count": 304,
     "metadata": {},
     "output_type": "execute_result"
    }
   ],
   "source": [
    "impressions_by_group = pd.DataFrame(df_impressions.groupby('group')['feature'].count())\n",
    "impressions_by_group.columns = ['count']\n",
    "impressions_by_group.sort_values(by='count', ascending=False)"
   ]
  },
  {
   "cell_type": "markdown",
   "metadata": {},
   "source": [
    "### Clicks by page"
   ]
  },
  {
   "cell_type": "code",
   "execution_count": 140,
   "metadata": {},
   "outputs": [
    {
     "data": {
      "text/html": [
       "<div>\n",
       "<style scoped>\n",
       "    .dataframe tbody tr th:only-of-type {\n",
       "        vertical-align: middle;\n",
       "    }\n",
       "\n",
       "    .dataframe tbody tr th {\n",
       "        vertical-align: top;\n",
       "    }\n",
       "\n",
       "    .dataframe thead th {\n",
       "        text-align: right;\n",
       "    }\n",
       "</style>\n",
       "<table border=\"1\" class=\"dataframe\">\n",
       "  <thead>\n",
       "    <tr style=\"text-align: right;\">\n",
       "      <th></th>\n",
       "      <th>feature</th>\n",
       "      <th>id</th>\n",
       "      <th>page</th>\n",
       "      <th>product</th>\n",
       "      <th>timestamp</th>\n",
       "      <th>user_id</th>\n",
       "      <th>os</th>\n",
       "      <th>source</th>\n",
       "      <th>browser</th>\n",
       "      <th>group</th>\n",
       "      <th>session</th>\n",
       "    </tr>\n",
       "  </thead>\n",
       "  <tbody>\n",
       "    <tr>\n",
       "      <th>0</th>\n",
       "      <td>2406596896456549791</td>\n",
       "      <td>8765249957191</td>\n",
       "      <td>category</td>\n",
       "      <td>6952869018143429188</td>\n",
       "      <td>2017-09-13 12:58:08</td>\n",
       "      <td>1865329336598195445</td>\n",
       "      <td>Windows</td>\n",
       "      <td>desktop</td>\n",
       "      <td>Chrome</td>\n",
       "      <td>A</td>\n",
       "      <td>-2433577766061835784</td>\n",
       "    </tr>\n",
       "    <tr>\n",
       "      <th>1</th>\n",
       "      <td>-7828424103269057573</td>\n",
       "      <td>8765249957191</td>\n",
       "      <td>product</td>\n",
       "      <td>-5138915283570447380</td>\n",
       "      <td>2017-09-13 12:08:00</td>\n",
       "      <td>3258854675349784616</td>\n",
       "      <td>Android</td>\n",
       "      <td>mobile</td>\n",
       "      <td>Chrome</td>\n",
       "      <td>A</td>\n",
       "      <td>-621823323795459513</td>\n",
       "    </tr>\n",
       "    <tr>\n",
       "      <th>2</th>\n",
       "      <td>-4092588031201132965</td>\n",
       "      <td>8765249957191</td>\n",
       "      <td>product</td>\n",
       "      <td>5189448167622118003</td>\n",
       "      <td>2017-09-13 12:47:09</td>\n",
       "      <td>5809670802835063900</td>\n",
       "      <td>Windows</td>\n",
       "      <td>desktop</td>\n",
       "      <td>Chrome</td>\n",
       "      <td>F</td>\n",
       "      <td>-1849947433184614682</td>\n",
       "    </tr>\n",
       "    <tr>\n",
       "      <th>3</th>\n",
       "      <td>-7828424103269057573</td>\n",
       "      <td>8765249957191</td>\n",
       "      <td>product</td>\n",
       "      <td>6232867567143294667</td>\n",
       "      <td>2017-09-13 12:12:30</td>\n",
       "      <td>1707018823425502703</td>\n",
       "      <td>Windows</td>\n",
       "      <td>desktop</td>\n",
       "      <td>Chrome</td>\n",
       "      <td>G</td>\n",
       "      <td>4536958708000369694</td>\n",
       "    </tr>\n",
       "    <tr>\n",
       "      <th>4</th>\n",
       "      <td>2406596896456549791</td>\n",
       "      <td>8765249957191</td>\n",
       "      <td>category</td>\n",
       "      <td>8439158233758681546</td>\n",
       "      <td>2017-09-13 12:00:18</td>\n",
       "      <td>-5013253789058082303</td>\n",
       "      <td>Windows</td>\n",
       "      <td>desktop</td>\n",
       "      <td>Chrome</td>\n",
       "      <td>D</td>\n",
       "      <td>-6638903481051323134</td>\n",
       "    </tr>\n",
       "  </tbody>\n",
       "</table>\n",
       "</div>"
      ],
      "text/plain": [
       "               feature             id      page              product  \\\n",
       "0  2406596896456549791  8765249957191  category  6952869018143429188   \n",
       "1 -7828424103269057573  8765249957191   product -5138915283570447380   \n",
       "2 -4092588031201132965  8765249957191   product  5189448167622118003   \n",
       "3 -7828424103269057573  8765249957191   product  6232867567143294667   \n",
       "4  2406596896456549791  8765249957191  category  8439158233758681546   \n",
       "\n",
       "            timestamp              user_id       os   source browser group  \\\n",
       "0 2017-09-13 12:58:08  1865329336598195445  Windows  desktop  Chrome     A   \n",
       "1 2017-09-13 12:08:00  3258854675349784616  Android   mobile  Chrome     A   \n",
       "2 2017-09-13 12:47:09  5809670802835063900  Windows  desktop  Chrome     F   \n",
       "3 2017-09-13 12:12:30  1707018823425502703  Windows  desktop  Chrome     G   \n",
       "4 2017-09-13 12:00:18 -5013253789058082303  Windows  desktop  Chrome     D   \n",
       "\n",
       "                session  \n",
       "0  -2433577766061835784  \n",
       "1   -621823323795459513  \n",
       "2  -1849947433184614682  \n",
       "3   4536958708000369694  \n",
       "4  -6638903481051323134  "
      ]
     },
     "execution_count": 140,
     "metadata": {},
     "output_type": "execute_result"
    }
   ],
   "source": [
    "df_clicks.head()"
   ]
  },
  {
   "cell_type": "code",
   "execution_count": 204,
   "metadata": {},
   "outputs": [
    {
     "data": {
      "text/plain": [
       "product     728034\n",
       "category    306468\n",
       "home        105091\n",
       "search       30942\n",
       "cart          9302\n",
       "other         3131\n",
       "wishlist        34\n",
       "Name: page, dtype: int64"
      ]
     },
     "execution_count": 204,
     "metadata": {},
     "output_type": "execute_result"
    }
   ],
   "source": [
    "df_clicks.page.value_counts()"
   ]
  },
  {
   "cell_type": "code",
   "execution_count": 214,
   "metadata": {},
   "outputs": [
    {
     "name": "stdout",
     "output_type": "stream",
     "text": [
      "Most clicks occur on the \"product\" session with 728034 clicks, corresponding to 0.6154123154483255 of the clicks of the dataset.\n"
     ]
    }
   ],
   "source": [
    "print('Most clicks occur on the \"{}\" session with {} clicks, corresponding to {} of the clicks of the dataset.'.format(df_clicks.page.value_counts().index[0], df_clicks.page.value_counts().values[0], (df_clicks.page.value_counts().values[0] / len(df_clicks))))"
   ]
  },
  {
   "cell_type": "markdown",
   "metadata": {},
   "source": [
    "### Clicks by page and product"
   ]
  },
  {
   "cell_type": "code",
   "execution_count": 215,
   "metadata": {},
   "outputs": [
    {
     "data": {
      "text/html": [
       "<div>\n",
       "<style scoped>\n",
       "    .dataframe tbody tr th:only-of-type {\n",
       "        vertical-align: middle;\n",
       "    }\n",
       "\n",
       "    .dataframe tbody tr th {\n",
       "        vertical-align: top;\n",
       "    }\n",
       "\n",
       "    .dataframe thead th {\n",
       "        text-align: right;\n",
       "    }\n",
       "</style>\n",
       "<table border=\"1\" class=\"dataframe\">\n",
       "  <thead>\n",
       "    <tr style=\"text-align: right;\">\n",
       "      <th></th>\n",
       "      <th></th>\n",
       "      <th>count</th>\n",
       "    </tr>\n",
       "    <tr>\n",
       "      <th>page</th>\n",
       "      <th>product</th>\n",
       "      <th></th>\n",
       "    </tr>\n",
       "  </thead>\n",
       "  <tbody>\n",
       "    <tr>\n",
       "      <th rowspan=\"3\" valign=\"top\">product</th>\n",
       "      <th>-8541199829215487257</th>\n",
       "      <td>7581</td>\n",
       "    </tr>\n",
       "    <tr>\n",
       "      <th>8678803998682917511</th>\n",
       "      <td>5694</td>\n",
       "    </tr>\n",
       "    <tr>\n",
       "      <th>5369405460081842340</th>\n",
       "      <td>5012</td>\n",
       "    </tr>\n",
       "    <tr>\n",
       "      <th>home</th>\n",
       "      <th>8678803998682917511</th>\n",
       "      <td>4256</td>\n",
       "    </tr>\n",
       "    <tr>\n",
       "      <th rowspan=\"2\" valign=\"top\">product</th>\n",
       "      <th>-1453529097213745109</th>\n",
       "      <td>4020</td>\n",
       "    </tr>\n",
       "    <tr>\n",
       "      <th>268116511737437555</th>\n",
       "      <td>3964</td>\n",
       "    </tr>\n",
       "    <tr>\n",
       "      <th>category</th>\n",
       "      <th>8678803998682917511</th>\n",
       "      <td>3642</td>\n",
       "    </tr>\n",
       "    <tr>\n",
       "      <th>product</th>\n",
       "      <th>7368759271263076341</th>\n",
       "      <td>3536</td>\n",
       "    </tr>\n",
       "    <tr>\n",
       "      <th rowspan=\"2\" valign=\"top\">category</th>\n",
       "      <th>-8541199829215487257</th>\n",
       "      <td>3521</td>\n",
       "    </tr>\n",
       "    <tr>\n",
       "      <th>5269472147272916197</th>\n",
       "      <td>3509</td>\n",
       "    </tr>\n",
       "  </tbody>\n",
       "</table>\n",
       "</div>"
      ],
      "text/plain": [
       "                               count\n",
       "page     product                    \n",
       "product  -8541199829215487257   7581\n",
       "          8678803998682917511   5694\n",
       "          5369405460081842340   5012\n",
       "home      8678803998682917511   4256\n",
       "product  -1453529097213745109   4020\n",
       "          268116511737437555    3964\n",
       "category  8678803998682917511   3642\n",
       "product   7368759271263076341   3536\n",
       "category -8541199829215487257   3521\n",
       "          5269472147272916197   3509"
      ]
     },
     "execution_count": 215,
     "metadata": {},
     "output_type": "execute_result"
    }
   ],
   "source": [
    "clicks_by_page_product = pd.DataFrame(df_clicks.groupby(['page', 'product'])['page'].count())\n",
    "clicks_by_page_product.columns = ['count']\n",
    "clicks_by_page_product.sort_values(by='count', ascending=False).head(10)"
   ]
  },
  {
   "cell_type": "code",
   "execution_count": 249,
   "metadata": {},
   "outputs": [
    {
     "name": "stdout",
     "output_type": "stream",
     "text": [
      "The top three products that got clicked the most are \"-8541199829215487257\", \"8678803998682917511\" and \"5369405460081842340\", with 7581, 5694, 5012 clicks respectively. The clicks came all from the product page.\n"
     ]
    }
   ],
   "source": [
    "print('The top three products that got clicked the most are \"-8541199829215487257\", \"8678803998682917511\" and \"5369405460081842340\", with 7581, 5694, 5012 clicks respectively. The clicks came all from the product page.')"
   ]
  },
  {
   "cell_type": "markdown",
   "metadata": {},
   "source": [
    "### Top three most sold products"
   ]
  },
  {
   "cell_type": "code",
   "execution_count": 234,
   "metadata": {},
   "outputs": [],
   "source": [
    "ids = []\n",
    "def get_product_ids(items):\n",
    "    for item in items:\n",
    "        ids.append(item['id'])"
   ]
  },
  {
   "cell_type": "code",
   "execution_count": 236,
   "metadata": {},
   "outputs": [],
   "source": [
    "_ = df_transactions['items'].map(get_product_ids)"
   ]
  },
  {
   "cell_type": "code",
   "execution_count": 245,
   "metadata": {},
   "outputs": [],
   "source": [
    "sold_products = pd.Series(ids)"
   ]
  },
  {
   "cell_type": "code",
   "execution_count": 248,
   "metadata": {},
   "outputs": [
    {
     "data": {
      "text/plain": [
       "-8541199829215487257    3438\n",
       " 8678803998682917511    2593\n",
       " 5369405460081842340    2329\n",
       " 268116511737437555     1820\n",
       " 5269472147272916197    1579\n",
       "dtype: int64"
      ]
     },
     "execution_count": 248,
     "metadata": {},
     "output_type": "execute_result"
    }
   ],
   "source": [
    "sold_products.value_counts().head()"
   ]
  },
  {
   "cell_type": "code",
   "execution_count": 250,
   "metadata": {},
   "outputs": [
    {
     "name": "stdout",
     "output_type": "stream",
     "text": [
      "The top three most sold products are -8541199829215487257, 8678803998682917511 and 5369405460081842340. Which are the top three products that got most clicks.\n"
     ]
    }
   ],
   "source": [
    "# Top 3 clicked ====> \"-8541199829215487257\", \"8678803998682917511\" and \"5369405460081842340\"\n",
    "print('The top three most sold products are {}, {} and {}. Which are the top three products that got most clicks.'.format(sold_products.value_counts().index[0], sold_products.value_counts().index[1], sold_products.value_counts().index[2]))"
   ]
  },
  {
   "cell_type": "markdown",
   "metadata": {},
   "source": [
    "### Checking which impressions got more clicks"
   ]
  },
  {
   "cell_type": "code",
   "execution_count": 129,
   "metadata": {},
   "outputs": [
    {
     "data": {
      "text/plain": [
       "8765249957191    25798767\n",
       "Name: id, dtype: int64"
      ]
     },
     "execution_count": 129,
     "metadata": {},
     "output_type": "execute_result"
    }
   ],
   "source": [
    "df_impressions.id.value_counts()"
   ]
  },
  {
   "cell_type": "code",
   "execution_count": 133,
   "metadata": {},
   "outputs": [
    {
     "data": {
      "text/plain": [
       "True"
      ]
     },
     "execution_count": 133,
     "metadata": {},
     "output_type": "execute_result"
    }
   ],
   "source": [
    "len(df_impressions) == df_impressions.id.value_counts()[0]"
   ]
  },
  {
   "cell_type": "code",
   "execution_count": 126,
   "metadata": {},
   "outputs": [
    {
     "data": {
      "text/plain": [
       "8765249957191    1183002\n",
       "Name: id, dtype: int64"
      ]
     },
     "execution_count": 126,
     "metadata": {},
     "output_type": "execute_result"
    }
   ],
   "source": [
    "df_clicks.id.value_counts()"
   ]
  },
  {
   "cell_type": "code",
   "execution_count": 252,
   "metadata": {},
   "outputs": [
    {
     "data": {
      "text/plain": [
       "True"
      ]
     },
     "execution_count": 252,
     "metadata": {},
     "output_type": "execute_result"
    }
   ],
   "source": [
    "len(df_clicks) == df_clicks.id.value_counts()[0]"
   ]
  },
  {
   "cell_type": "markdown",
   "metadata": {},
   "source": [
    "That seems odd. It appears that only one impression got all the clicks.\n",
    "I believe this is incorrect.\n",
    "I noticed that this specific impression id is the same as the second algRef that appeared the most."
   ]
  },
  {
   "cell_type": "markdown",
   "metadata": {},
   "source": [
    "### Revenue by user"
   ]
  },
  {
   "cell_type": "code",
   "execution_count": 320,
   "metadata": {},
   "outputs": [
    {
     "data": {
      "text/html": [
       "<div>\n",
       "<style scoped>\n",
       "    .dataframe tbody tr th:only-of-type {\n",
       "        vertical-align: middle;\n",
       "    }\n",
       "\n",
       "    .dataframe tbody tr th {\n",
       "        vertical-align: top;\n",
       "    }\n",
       "\n",
       "    .dataframe thead th {\n",
       "        text-align: right;\n",
       "    }\n",
       "</style>\n",
       "<table border=\"1\" class=\"dataframe\">\n",
       "  <thead>\n",
       "    <tr style=\"text-align: right;\">\n",
       "      <th></th>\n",
       "      <th>sum</th>\n",
       "      <th>count</th>\n",
       "    </tr>\n",
       "    <tr>\n",
       "      <th>user_id</th>\n",
       "      <th></th>\n",
       "      <th></th>\n",
       "    </tr>\n",
       "  </thead>\n",
       "  <tbody>\n",
       "    <tr>\n",
       "      <th>-5992348442313184460</th>\n",
       "      <td>155704.07</td>\n",
       "      <td>172</td>\n",
       "    </tr>\n",
       "    <tr>\n",
       "      <th>-8294029186802564846</th>\n",
       "      <td>130707.45</td>\n",
       "      <td>246</td>\n",
       "    </tr>\n",
       "    <tr>\n",
       "      <th>-741877998105615572</th>\n",
       "      <td>119799.92</td>\n",
       "      <td>2</td>\n",
       "    </tr>\n",
       "    <tr>\n",
       "      <th>-8992419975538466810</th>\n",
       "      <td>86599.31</td>\n",
       "      <td>16</td>\n",
       "    </tr>\n",
       "    <tr>\n",
       "      <th>-6046511448698099338</th>\n",
       "      <td>76798.63</td>\n",
       "      <td>235</td>\n",
       "    </tr>\n",
       "    <tr>\n",
       "      <th>-3698913385902928757</th>\n",
       "      <td>71082.56</td>\n",
       "      <td>230</td>\n",
       "    </tr>\n",
       "    <tr>\n",
       "      <th>-6354978296712783497</th>\n",
       "      <td>70307.93</td>\n",
       "      <td>186</td>\n",
       "    </tr>\n",
       "    <tr>\n",
       "      <th>1094897730130908863</th>\n",
       "      <td>64257.45</td>\n",
       "      <td>243</td>\n",
       "    </tr>\n",
       "    <tr>\n",
       "      <th>-2946885420309936310</th>\n",
       "      <td>63554.16</td>\n",
       "      <td>201</td>\n",
       "    </tr>\n",
       "    <tr>\n",
       "      <th>6701048707985679879</th>\n",
       "      <td>54392.38</td>\n",
       "      <td>206</td>\n",
       "    </tr>\n",
       "  </tbody>\n",
       "</table>\n",
       "</div>"
      ],
      "text/plain": [
       "                            sum  count\n",
       "user_id                               \n",
       "-5992348442313184460  155704.07    172\n",
       "-8294029186802564846  130707.45    246\n",
       "-741877998105615572   119799.92      2\n",
       "-8992419975538466810   86599.31     16\n",
       "-6046511448698099338   76798.63    235\n",
       "-3698913385902928757   71082.56    230\n",
       "-6354978296712783497   70307.93    186\n",
       " 1094897730130908863   64257.45    243\n",
       "-2946885420309936310   63554.16    201\n",
       " 6701048707985679879   54392.38    206"
      ]
     },
     "execution_count": 320,
     "metadata": {},
     "output_type": "execute_result"
    }
   ],
   "source": [
    "revenue_by_user = pd.DataFrame(df_transactions.groupby('user_id')['revenue'].agg(['sum', 'count']))\n",
    "revenue_by_user.sort_values(by='sum', ascending=False).head(10)"
   ]
  },
  {
   "cell_type": "code",
   "execution_count": 321,
   "metadata": {},
   "outputs": [
    {
     "data": {
      "text/html": [
       "<div>\n",
       "<style scoped>\n",
       "    .dataframe tbody tr th:only-of-type {\n",
       "        vertical-align: middle;\n",
       "    }\n",
       "\n",
       "    .dataframe tbody tr th {\n",
       "        vertical-align: top;\n",
       "    }\n",
       "\n",
       "    .dataframe thead th {\n",
       "        text-align: right;\n",
       "    }\n",
       "</style>\n",
       "<table border=\"1\" class=\"dataframe\">\n",
       "  <thead>\n",
       "    <tr style=\"text-align: right;\">\n",
       "      <th></th>\n",
       "      <th>sum</th>\n",
       "      <th>count</th>\n",
       "    </tr>\n",
       "    <tr>\n",
       "      <th>user_id</th>\n",
       "      <th></th>\n",
       "      <th></th>\n",
       "    </tr>\n",
       "  </thead>\n",
       "  <tbody>\n",
       "    <tr>\n",
       "      <th>-8294029186802564846</th>\n",
       "      <td>130707.45</td>\n",
       "      <td>246</td>\n",
       "    </tr>\n",
       "    <tr>\n",
       "      <th>1094897730130908863</th>\n",
       "      <td>64257.45</td>\n",
       "      <td>243</td>\n",
       "    </tr>\n",
       "    <tr>\n",
       "      <th>-6046511448698099338</th>\n",
       "      <td>76798.63</td>\n",
       "      <td>235</td>\n",
       "    </tr>\n",
       "    <tr>\n",
       "      <th>-3698913385902928757</th>\n",
       "      <td>71082.56</td>\n",
       "      <td>230</td>\n",
       "    </tr>\n",
       "    <tr>\n",
       "      <th>6701048707985679879</th>\n",
       "      <td>54392.38</td>\n",
       "      <td>206</td>\n",
       "    </tr>\n",
       "    <tr>\n",
       "      <th>-2946885420309936310</th>\n",
       "      <td>63554.16</td>\n",
       "      <td>201</td>\n",
       "    </tr>\n",
       "    <tr>\n",
       "      <th>7202831921977942302</th>\n",
       "      <td>50771.66</td>\n",
       "      <td>199</td>\n",
       "    </tr>\n",
       "    <tr>\n",
       "      <th>2127597066594497673</th>\n",
       "      <td>49269.97</td>\n",
       "      <td>190</td>\n",
       "    </tr>\n",
       "    <tr>\n",
       "      <th>-6354978296712783497</th>\n",
       "      <td>70307.93</td>\n",
       "      <td>186</td>\n",
       "    </tr>\n",
       "    <tr>\n",
       "      <th>-5992348442313184460</th>\n",
       "      <td>155704.07</td>\n",
       "      <td>172</td>\n",
       "    </tr>\n",
       "  </tbody>\n",
       "</table>\n",
       "</div>"
      ],
      "text/plain": [
       "                            sum  count\n",
       "user_id                               \n",
       "-8294029186802564846  130707.45    246\n",
       " 1094897730130908863   64257.45    243\n",
       "-6046511448698099338   76798.63    235\n",
       "-3698913385902928757   71082.56    230\n",
       " 6701048707985679879   54392.38    206\n",
       "-2946885420309936310   63554.16    201\n",
       " 7202831921977942302   50771.66    199\n",
       " 2127597066594497673   49269.97    190\n",
       "-6354978296712783497   70307.93    186\n",
       "-5992348442313184460  155704.07    172"
      ]
     },
     "execution_count": 321,
     "metadata": {},
     "output_type": "execute_result"
    }
   ],
   "source": [
    "revenue_by_user.sort_values(by='count', ascending=False).head(10)"
   ]
  },
  {
   "cell_type": "markdown",
   "metadata": {},
   "source": [
    "## Statistical Significance"
   ]
  },
  {
   "cell_type": "markdown",
   "metadata": {},
   "source": [
    "We can use the Mann-Whitney-Wilcoxon ranksum test, which does not assume that the data are normally distributed and can help us determine if two distributions are significantly different or not."
   ]
  },
  {
   "cell_type": "markdown",
   "metadata": {},
   "source": [
    "### For example"
   ]
  },
  {
   "cell_type": "code",
   "execution_count": 256,
   "metadata": {},
   "outputs": [],
   "source": [
    "from scipy import stats"
   ]
  },
  {
   "cell_type": "code",
   "execution_count": 278,
   "metadata": {},
   "outputs": [],
   "source": [
    "distribution1 = df_transactions[df_transactions['group'] == 'A']['revenue']\n",
    "distribution2 = df_transactions[df_transactions['group'] == 'B']['revenue']"
   ]
  },
  {
   "cell_type": "code",
   "execution_count": 261,
   "metadata": {},
   "outputs": [
    {
     "data": {
      "text/plain": [
       "id\n",
       "-5316203479734805975    149.99\n",
       "-2972393347339997149     19.99\n",
       " 3300569293957439300     28.76\n",
       "-2312096879963561663     39.80\n",
       " 4564354966567737232    249.99\n",
       "Name: revenue, dtype: float64"
      ]
     },
     "execution_count": 261,
     "metadata": {},
     "output_type": "execute_result"
    }
   ],
   "source": [
    "distribution1.head()"
   ]
  },
  {
   "cell_type": "code",
   "execution_count": 262,
   "metadata": {},
   "outputs": [
    {
     "data": {
      "text/plain": [
       "id\n",
       "-8392062821901812660    199.96\n",
       "-1437509789217736858    359.99\n",
       "-8106047738442177723     79.98\n",
       " 511499684028692008     249.98\n",
       "-8596892060615325878     79.99\n",
       "Name: revenue, dtype: float64"
      ]
     },
     "execution_count": 262,
     "metadata": {},
     "output_type": "execute_result"
    }
   ],
   "source": [
    "distribution2.head()"
   ]
  },
  {
   "cell_type": "markdown",
   "metadata": {},
   "source": [
    "### We can check if there's a significant difference in the revenue of group A x B"
   ]
  },
  {
   "cell_type": "code",
   "execution_count": 279,
   "metadata": {},
   "outputs": [
    {
     "name": "stdout",
     "output_type": "stream",
     "text": [
      "P-value: 0.67713703482\n",
      "Since P > 0.05, we can say that the distributions do not significantly differ. Therefore, changing from group A to B does not affect on the revenue.\n"
     ]
    }
   ],
   "source": [
    "_, p_value = stats.ranksums(distribution1, distribution2)\n",
    "print('P-value:', p_value)\n",
    "print('Since P > 0.05, we can say that the distributions do not significantly differ. Therefore, changing from group A to B does not affect on the revenue.')"
   ]
  },
  {
   "cell_type": "markdown",
   "metadata": {},
   "source": [
    "#### We can do that to every group"
   ]
  },
  {
   "cell_type": "code",
   "execution_count": 269,
   "metadata": {},
   "outputs": [
    {
     "name": "stdout",
     "output_type": "stream",
     "text": [
      "P-value: 0.139006959963\n"
     ]
    }
   ],
   "source": [
    "distribution1 = df_transactions[df_transactions['group'] == 'C']['revenue']\n",
    "distribution2 = df_transactions[df_transactions['group'] == 'D']['revenue']\n",
    "_, p_value = stats.ranksums(distribution1, distribution2)\n",
    "print('P-value:', p_value)"
   ]
  },
  {
   "cell_type": "code",
   "execution_count": 270,
   "metadata": {},
   "outputs": [
    {
     "name": "stdout",
     "output_type": "stream",
     "text": [
      "P-value: 0.0382481996583\n"
     ]
    }
   ],
   "source": [
    "distribution1 = df_transactions[df_transactions['group'] == 'E']['revenue']\n",
    "distribution2 = df_transactions[df_transactions['group'] == 'F']['revenue']\n",
    "_, p_value = stats.ranksums(distribution1, distribution2)\n",
    "print('P-value:', p_value)"
   ]
  },
  {
   "cell_type": "code",
   "execution_count": 276,
   "metadata": {},
   "outputs": [
    {
     "name": "stdout",
     "output_type": "stream",
     "text": [
      "P-value: 0.00114441520554\n"
     ]
    }
   ],
   "source": [
    "distribution1 = df_transactions[df_transactions['group'] == 'G']['revenue']\n",
    "distribution2 = df_transactions[df_transactions['group'] == 'H']['revenue']\n",
    "_, p_value = stats.ranksums(distribution1, distribution2)\n",
    "print('P-value:', p_value)"
   ]
  },
  {
   "cell_type": "markdown",
   "metadata": {},
   "source": [
    "We can see that group E and F have a high confidence, which strengthens the assumption that group E was in fact the most effective group (as shown previously).\n",
    "The same happens to group G and H."
   ]
  },
  {
   "cell_type": "markdown",
   "metadata": {},
   "source": [
    "#### We can follow the same approach to verify the clicks and pageviews by group"
   ]
  },
  {
   "cell_type": "code",
   "execution_count": 284,
   "metadata": {},
   "outputs": [],
   "source": [
    "clicks_by_group = pd.DataFrame(df_clicks.groupby('group')['feature'].count())\n",
    "clicks_by_group.columns = ['count']"
   ]
  },
  {
   "cell_type": "code",
   "execution_count": 296,
   "metadata": {},
   "outputs": [
    {
     "data": {
      "text/html": [
       "<div>\n",
       "<style scoped>\n",
       "    .dataframe tbody tr th:only-of-type {\n",
       "        vertical-align: middle;\n",
       "    }\n",
       "\n",
       "    .dataframe tbody tr th {\n",
       "        vertical-align: top;\n",
       "    }\n",
       "\n",
       "    .dataframe thead th {\n",
       "        text-align: right;\n",
       "    }\n",
       "</style>\n",
       "<table border=\"1\" class=\"dataframe\">\n",
       "  <thead>\n",
       "    <tr style=\"text-align: right;\">\n",
       "      <th></th>\n",
       "      <th>count</th>\n",
       "    </tr>\n",
       "    <tr>\n",
       "      <th>group</th>\n",
       "      <th></th>\n",
       "    </tr>\n",
       "  </thead>\n",
       "  <tbody>\n",
       "    <tr>\n",
       "      <th>A</th>\n",
       "      <td>149664</td>\n",
       "    </tr>\n",
       "    <tr>\n",
       "      <th>B</th>\n",
       "      <td>149936</td>\n",
       "    </tr>\n",
       "    <tr>\n",
       "      <th>C</th>\n",
       "      <td>148723</td>\n",
       "    </tr>\n",
       "    <tr>\n",
       "      <th>D</th>\n",
       "      <td>147253</td>\n",
       "    </tr>\n",
       "    <tr>\n",
       "      <th>E</th>\n",
       "      <td>148761</td>\n",
       "    </tr>\n",
       "    <tr>\n",
       "      <th>F</th>\n",
       "      <td>145964</td>\n",
       "    </tr>\n",
       "    <tr>\n",
       "      <th>G</th>\n",
       "      <td>146324</td>\n",
       "    </tr>\n",
       "    <tr>\n",
       "      <th>H</th>\n",
       "      <td>146377</td>\n",
       "    </tr>\n",
       "  </tbody>\n",
       "</table>\n",
       "</div>"
      ],
      "text/plain": [
       "        count\n",
       "group        \n",
       "A      149664\n",
       "B      149936\n",
       "C      148723\n",
       "D      147253\n",
       "E      148761\n",
       "F      145964\n",
       "G      146324\n",
       "H      146377"
      ]
     },
     "execution_count": 296,
     "metadata": {},
     "output_type": "execute_result"
    }
   ],
   "source": [
    "clicks_by_group"
   ]
  },
  {
   "cell_type": "markdown",
   "metadata": {},
   "source": [
    "As we can see, it shouldn't differ that much."
   ]
  },
  {
   "cell_type": "code",
   "execution_count": 291,
   "metadata": {},
   "outputs": [
    {
     "name": "stdout",
     "output_type": "stream",
     "text": [
      "P-value: 0.317310507863\n"
     ]
    }
   ],
   "source": [
    "distribution1 = clicks_by_group[clicks_by_group.index == 'A']['count']\n",
    "distribution2 = clicks_by_group[clicks_by_group.index == 'B']['count']\n",
    "_, p_value = stats.ranksums(distribution1, distribution2)\n",
    "print('P-value:', p_value)"
   ]
  },
  {
   "cell_type": "code",
   "execution_count": 293,
   "metadata": {},
   "outputs": [
    {
     "name": "stdout",
     "output_type": "stream",
     "text": [
      "P-value: 0.317310507863\n"
     ]
    }
   ],
   "source": [
    "distribution1 = clicks_by_group[clicks_by_group.index == 'C']['count']\n",
    "distribution2 = clicks_by_group[clicks_by_group.index == 'D']['count']\n",
    "_, p_value = stats.ranksums(distribution1, distribution2)\n",
    "print('P-value:', p_value)"
   ]
  },
  {
   "cell_type": "code",
   "execution_count": 294,
   "metadata": {},
   "outputs": [
    {
     "name": "stdout",
     "output_type": "stream",
     "text": [
      "P-value: 0.317310507863\n"
     ]
    }
   ],
   "source": [
    "distribution1 = clicks_by_group[clicks_by_group.index == 'E']['count']\n",
    "distribution2 = clicks_by_group[clicks_by_group.index == 'F']['count']\n",
    "_, p_value = stats.ranksums(distribution1, distribution2)\n",
    "print('P-value:', p_value)"
   ]
  },
  {
   "cell_type": "code",
   "execution_count": 297,
   "metadata": {},
   "outputs": [
    {
     "name": "stdout",
     "output_type": "stream",
     "text": [
      "P-value: 0.317310507863\n"
     ]
    }
   ],
   "source": [
    "distribution1 = clicks_by_group[clicks_by_group.index == 'G']['count']\n",
    "distribution2 = clicks_by_group[clicks_by_group.index == 'H']['count']\n",
    "_, p_value = stats.ranksums(distribution1, distribution2)\n",
    "print('P-value:', p_value)"
   ]
  }
 ],
 "metadata": {
  "kernelspec": {
   "display_name": "Python 3",
   "language": "python",
   "name": "python3"
  },
  "language_info": {
   "codemirror_mode": {
    "name": "ipython",
    "version": 3
   },
   "file_extension": ".py",
   "mimetype": "text/x-python",
   "name": "python",
   "nbconvert_exporter": "python",
   "pygments_lexer": "ipython3",
   "version": "3.6.2"
  }
 },
 "nbformat": 4,
 "nbformat_minor": 2
}
