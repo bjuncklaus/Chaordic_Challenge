{
 "cells": [
  {
   "cell_type": "code",
   "execution_count": 1,
   "metadata": {},
   "outputs": [
    {
     "data": {
      "text/plain": [
       "'0.21.0'"
      ]
     },
     "execution_count": 1,
     "metadata": {},
     "output_type": "execute_result"
    }
   ],
   "source": [
    "import pandas as pd\n",
    "pd.__version__"
   ]
  },
  {
   "cell_type": "code",
   "execution_count": 2,
   "metadata": {},
   "outputs": [],
   "source": [
    "data_dir = 'data/'\n",
    "data_transanctions = data_dir + 'transactions/'\n",
    "data_clicks = data_dir + 'clicks/'\n",
    "data_impressions = data_dir + 'impressions/'\n",
    "data_pageViews = data_dir + 'pageViews/'"
   ]
  },
  {
   "cell_type": "code",
   "execution_count": 3,
   "metadata": {},
   "outputs": [],
   "source": [
    "df_transactions = pd.read_json(data_transanctions + 'part-00', lines=True)\n",
    "df_clicks = pd.read_json(data_clicks + 'part-00', lines=True)\n",
    "df_impressions = pd.read_json(data_impressions + 'part-00', lines=True)\n",
    "df_pageViews = pd.read_json(data_pageViews + 'part-00', lines=True)"
   ]
  },
  {
   "cell_type": "code",
   "execution_count": 4,
   "metadata": {},
   "outputs": [
    {
     "name": "stdout",
     "output_type": "stream",
     "text": [
      "Transactions: 5066\n",
      "Clicks: 51517\n",
      "Impressions: 926924\n",
      "PageViews: 1072082\n"
     ]
    }
   ],
   "source": [
    "print('Transactions:', len(df_transactions))\n",
    "print('Clicks:', len(df_clicks))\n",
    "print('Impressions:', len(df_impressions))\n",
    "print('PageViews:', len(df_pageViews))"
   ]
  },
  {
   "cell_type": "code",
   "execution_count": 24,
   "metadata": {},
   "outputs": [],
   "source": [
    "def mem_usage(pandas_obj):\n",
    "    if isinstance(pandas_obj,pd.DataFrame):\n",
    "        usage_b = pandas_obj.memory_usage(deep=True).sum()\n",
    "    else: # we assume if not a df it's a series\n",
    "        usage_b = pandas_obj.memory_usage(deep=True)\n",
    "    usage_mb = usage_b / 1024 ** 2 # convert bytes to megabytes\n",
    "    return \"{:03.2f} MB\".format(usage_mb)"
   ]
  },
  {
   "cell_type": "code",
   "execution_count": null,
   "metadata": {},
   "outputs": [],
   "source": []
  },
  {
   "cell_type": "code",
   "execution_count": 5,
   "metadata": {},
   "outputs": [
    {
     "name": "stdout",
     "output_type": "stream",
     "text": [
      "<class 'pandas.core.frame.DataFrame'>\n",
      "Int64Index: 5066 entries, 0 to 5065\n",
      "Data columns (total 7 columns):\n",
      "ab             5066 non-null object\n",
      "id             5066 non-null int64\n",
      "info           5066 non-null object\n",
      "items          5066 non-null object\n",
      "paymentType    0 non-null float64\n",
      "timestamp      5066 non-null datetime64[ns]\n",
      "type           5066 non-null object\n",
      "dtypes: datetime64[ns](1), float64(1), int64(1), object(4)\n",
      "memory usage: 3.0 MB\n"
     ]
    }
   ],
   "source": [
    "df_transactions.info(memory_usage='deep')"
   ]
  },
  {
   "cell_type": "code",
   "execution_count": 6,
   "metadata": {},
   "outputs": [
    {
     "name": "stdout",
     "output_type": "stream",
     "text": [
      "<class 'pandas.core.frame.DataFrame'>\n",
      "Int64Index: 51517 entries, 0 to 51516\n",
      "Data columns (total 9 columns):\n",
      "ab           51517 non-null object\n",
      "feature      51517 non-null int64\n",
      "id           51517 non-null int64\n",
      "info         51517 non-null object\n",
      "page         51517 non-null object\n",
      "product      51517 non-null int64\n",
      "timestamp    51517 non-null datetime64[ns]\n",
      "type         51517 non-null object\n",
      "vrlId        51517 non-null int64\n",
      "dtypes: datetime64[ns](1), int64(4), object(4)\n",
      "memory usage: 29.8 MB\n"
     ]
    }
   ],
   "source": [
    "df_clicks.info(memory_usage='deep')"
   ]
  },
  {
   "cell_type": "code",
   "execution_count": 7,
   "metadata": {},
   "outputs": [
    {
     "name": "stdout",
     "output_type": "stream",
     "text": [
      "<class 'pandas.core.frame.DataFrame'>\n",
      "Int64Index: 926924 entries, 0 to 926923\n",
      "Data columns (total 10 columns):\n",
      "ab           926924 non-null object\n",
      "algRef       926924 non-null int64\n",
      "feature      926924 non-null int64\n",
      "id           926924 non-null int64\n",
      "info         926924 non-null object\n",
      "page         926924 non-null object\n",
      "products     926924 non-null object\n",
      "timestamp    926924 non-null datetime64[ns]\n",
      "type         926924 non-null object\n",
      "vrlId        926924 non-null int64\n",
      "dtypes: datetime64[ns](1), int64(4), object(5)\n",
      "memory usage: 611.3 MB\n"
     ]
    }
   ],
   "source": [
    "df_impressions.info(memory_usage='deep')"
   ]
  },
  {
   "cell_type": "code",
   "execution_count": 18,
   "metadata": {},
   "outputs": [
    {
     "name": "stdout",
     "output_type": "stream",
     "text": [
      "<class 'pandas.core.frame.DataFrame'>\n",
      "Int64Index: 1072082 entries, 0 to 1072081\n",
      "Data columns (total 6 columns):\n",
      "ab           1072082 non-null object\n",
      "id           1072082 non-null int64\n",
      "info         1072082 non-null object\n",
      "name         1072082 non-null object\n",
      "tags         781486 non-null object\n",
      "timestamp    1072082 non-null datetime64[ns]\n",
      "dtypes: datetime64[ns](1), int64(1), object(4)\n",
      "memory usage: 676.0 MB\n"
     ]
    }
   ],
   "source": [
    "df_pageViews.info(memory_usage='deep')"
   ]
  },
  {
   "cell_type": "code",
   "execution_count": null,
   "metadata": {},
   "outputs": [],
   "source": [
    "# df.select_dtypes(include=['object']).describe()"
   ]
  },
  {
   "cell_type": "code",
   "execution_count": 10,
   "metadata": {},
   "outputs": [
    {
     "data": {
      "text/html": [
       "<div>\n",
       "<style scoped>\n",
       "    .dataframe tbody tr th:only-of-type {\n",
       "        vertical-align: middle;\n",
       "    }\n",
       "\n",
       "    .dataframe tbody tr th {\n",
       "        vertical-align: top;\n",
       "    }\n",
       "\n",
       "    .dataframe thead th {\n",
       "        text-align: right;\n",
       "    }\n",
       "</style>\n",
       "<table border=\"1\" class=\"dataframe\">\n",
       "  <thead>\n",
       "    <tr style=\"text-align: right;\">\n",
       "      <th></th>\n",
       "      <th>ab</th>\n",
       "      <th>id</th>\n",
       "      <th>info</th>\n",
       "      <th>items</th>\n",
       "      <th>paymentType</th>\n",
       "      <th>timestamp</th>\n",
       "      <th>type</th>\n",
       "    </tr>\n",
       "  </thead>\n",
       "  <tbody>\n",
       "    <tr>\n",
       "      <th>0</th>\n",
       "      <td>F/-8514449600553721711</td>\n",
       "      <td>-8468716808217914046</td>\n",
       "      <td>{'browserId': 787012871705135056, 'browser': '...</td>\n",
       "      <td>[{'id': -2946697713091517060, 'price': 99.99, ...</td>\n",
       "      <td>NaN</td>\n",
       "      <td>2017-09-13 16:12:46</td>\n",
       "      <td>transaction</td>\n",
       "    </tr>\n",
       "    <tr>\n",
       "      <th>1</th>\n",
       "      <td>C/-4157417249875967771</td>\n",
       "      <td>103257389481310034</td>\n",
       "      <td>{'browserId': 3879043729920840203, 'browser': ...</td>\n",
       "      <td>[{'id': -7444430477752553485, 'price': 86.24, ...</td>\n",
       "      <td>NaN</td>\n",
       "      <td>2017-09-13 16:30:39</td>\n",
       "      <td>transaction</td>\n",
       "    </tr>\n",
       "    <tr>\n",
       "      <th>2</th>\n",
       "      <td>G/-2382791529923951593</td>\n",
       "      <td>998471017524245573</td>\n",
       "      <td>{'browserId': -5389786785786592819, 'browser':...</td>\n",
       "      <td>[{'id': -4553141046227747134, 'price': 154.9, ...</td>\n",
       "      <td>NaN</td>\n",
       "      <td>2017-09-13 16:14:05</td>\n",
       "      <td>transaction</td>\n",
       "    </tr>\n",
       "    <tr>\n",
       "      <th>3</th>\n",
       "      <td>B/-7474144324138992870</td>\n",
       "      <td>-8392062821901812660</td>\n",
       "      <td>{'browserId': -3978845478002365252, 'browser':...</td>\n",
       "      <td>[{'id': -5154934163428414730, 'price': 74.99, ...</td>\n",
       "      <td>NaN</td>\n",
       "      <td>2017-09-13 16:34:50</td>\n",
       "      <td>transaction</td>\n",
       "    </tr>\n",
       "    <tr>\n",
       "      <th>4</th>\n",
       "      <td>B/3836039149292236146</td>\n",
       "      <td>-1437509789217736858</td>\n",
       "      <td>{'browserId': -4978600350686100027, 'browser':...</td>\n",
       "      <td>[{'id': 7311257587267350768, 'price': 359.99, ...</td>\n",
       "      <td>NaN</td>\n",
       "      <td>2017-09-13 16:30:41</td>\n",
       "      <td>transaction</td>\n",
       "    </tr>\n",
       "  </tbody>\n",
       "</table>\n",
       "</div>"
      ],
      "text/plain": [
       "                       ab                   id  \\\n",
       "0  F/-8514449600553721711 -8468716808217914046   \n",
       "1  C/-4157417249875967771   103257389481310034   \n",
       "2  G/-2382791529923951593   998471017524245573   \n",
       "3  B/-7474144324138992870 -8392062821901812660   \n",
       "4   B/3836039149292236146 -1437509789217736858   \n",
       "\n",
       "                                                info  \\\n",
       "0  {'browserId': 787012871705135056, 'browser': '...   \n",
       "1  {'browserId': 3879043729920840203, 'browser': ...   \n",
       "2  {'browserId': -5389786785786592819, 'browser':...   \n",
       "3  {'browserId': -3978845478002365252, 'browser':...   \n",
       "4  {'browserId': -4978600350686100027, 'browser':...   \n",
       "\n",
       "                                               items  paymentType  \\\n",
       "0  [{'id': -2946697713091517060, 'price': 99.99, ...          NaN   \n",
       "1  [{'id': -7444430477752553485, 'price': 86.24, ...          NaN   \n",
       "2  [{'id': -4553141046227747134, 'price': 154.9, ...          NaN   \n",
       "3  [{'id': -5154934163428414730, 'price': 74.99, ...          NaN   \n",
       "4  [{'id': 7311257587267350768, 'price': 359.99, ...          NaN   \n",
       "\n",
       "            timestamp         type  \n",
       "0 2017-09-13 16:12:46  transaction  \n",
       "1 2017-09-13 16:30:39  transaction  \n",
       "2 2017-09-13 16:14:05  transaction  \n",
       "3 2017-09-13 16:34:50  transaction  \n",
       "4 2017-09-13 16:30:41  transaction  "
      ]
     },
     "execution_count": 10,
     "metadata": {},
     "output_type": "execute_result"
    }
   ],
   "source": [
    "df_transactions.head()"
   ]
  },
  {
   "cell_type": "code",
   "execution_count": 11,
   "metadata": {},
   "outputs": [
    {
     "data": {
      "text/html": [
       "<div>\n",
       "<style scoped>\n",
       "    .dataframe tbody tr th:only-of-type {\n",
       "        vertical-align: middle;\n",
       "    }\n",
       "\n",
       "    .dataframe tbody tr th {\n",
       "        vertical-align: top;\n",
       "    }\n",
       "\n",
       "    .dataframe thead th {\n",
       "        text-align: right;\n",
       "    }\n",
       "</style>\n",
       "<table border=\"1\" class=\"dataframe\">\n",
       "  <thead>\n",
       "    <tr style=\"text-align: right;\">\n",
       "      <th></th>\n",
       "      <th>ab</th>\n",
       "      <th>feature</th>\n",
       "      <th>id</th>\n",
       "      <th>info</th>\n",
       "      <th>page</th>\n",
       "      <th>product</th>\n",
       "      <th>timestamp</th>\n",
       "      <th>type</th>\n",
       "      <th>vrlId</th>\n",
       "    </tr>\n",
       "  </thead>\n",
       "  <tbody>\n",
       "    <tr>\n",
       "      <th>0</th>\n",
       "      <td>A/-2433577766061835784</td>\n",
       "      <td>2406596896456549791</td>\n",
       "      <td>8765249957191</td>\n",
       "      <td>{'browserId': 1865329336598195445, 'browser': ...</td>\n",
       "      <td>category</td>\n",
       "      <td>6952869018143429188</td>\n",
       "      <td>2017-09-13 12:58:08</td>\n",
       "      <td>clicklog</td>\n",
       "      <td>-8377820109229386856</td>\n",
       "    </tr>\n",
       "    <tr>\n",
       "      <th>1</th>\n",
       "      <td>A/-621823323795459513</td>\n",
       "      <td>-7828424103269057573</td>\n",
       "      <td>8765249957191</td>\n",
       "      <td>{'browserId': 3258854675349784616, 'browser': ...</td>\n",
       "      <td>product</td>\n",
       "      <td>-5138915283570447380</td>\n",
       "      <td>2017-09-13 12:08:00</td>\n",
       "      <td>clicklog</td>\n",
       "      <td>6627298913942488713</td>\n",
       "    </tr>\n",
       "    <tr>\n",
       "      <th>2</th>\n",
       "      <td>F/-1849947433184614682</td>\n",
       "      <td>-4092588031201132965</td>\n",
       "      <td>8765249957191</td>\n",
       "      <td>{'browserId': 5809670802835063900, 'browser': ...</td>\n",
       "      <td>product</td>\n",
       "      <td>5189448167622118003</td>\n",
       "      <td>2017-09-13 12:47:09</td>\n",
       "      <td>clicklog</td>\n",
       "      <td>6141716575792695306</td>\n",
       "    </tr>\n",
       "    <tr>\n",
       "      <th>3</th>\n",
       "      <td>G/4536958708000369694</td>\n",
       "      <td>-7828424103269057573</td>\n",
       "      <td>8765249957191</td>\n",
       "      <td>{'browserId': 1707018823425502703, 'browser': ...</td>\n",
       "      <td>product</td>\n",
       "      <td>6232867567143294667</td>\n",
       "      <td>2017-09-13 12:12:30</td>\n",
       "      <td>clicklog</td>\n",
       "      <td>2931152851733422991</td>\n",
       "    </tr>\n",
       "    <tr>\n",
       "      <th>4</th>\n",
       "      <td>D/-6638903481051323134</td>\n",
       "      <td>2406596896456549791</td>\n",
       "      <td>8765249957191</td>\n",
       "      <td>{'browserId': -5013253789058082303, 'browser':...</td>\n",
       "      <td>category</td>\n",
       "      <td>8439158233758681546</td>\n",
       "      <td>2017-09-13 12:00:18</td>\n",
       "      <td>clicklog</td>\n",
       "      <td>4251262299046076363</td>\n",
       "    </tr>\n",
       "  </tbody>\n",
       "</table>\n",
       "</div>"
      ],
      "text/plain": [
       "                       ab              feature             id  \\\n",
       "0  A/-2433577766061835784  2406596896456549791  8765249957191   \n",
       "1   A/-621823323795459513 -7828424103269057573  8765249957191   \n",
       "2  F/-1849947433184614682 -4092588031201132965  8765249957191   \n",
       "3   G/4536958708000369694 -7828424103269057573  8765249957191   \n",
       "4  D/-6638903481051323134  2406596896456549791  8765249957191   \n",
       "\n",
       "                                                info      page  \\\n",
       "0  {'browserId': 1865329336598195445, 'browser': ...  category   \n",
       "1  {'browserId': 3258854675349784616, 'browser': ...   product   \n",
       "2  {'browserId': 5809670802835063900, 'browser': ...   product   \n",
       "3  {'browserId': 1707018823425502703, 'browser': ...   product   \n",
       "4  {'browserId': -5013253789058082303, 'browser':...  category   \n",
       "\n",
       "               product           timestamp      type                vrlId  \n",
       "0  6952869018143429188 2017-09-13 12:58:08  clicklog -8377820109229386856  \n",
       "1 -5138915283570447380 2017-09-13 12:08:00  clicklog  6627298913942488713  \n",
       "2  5189448167622118003 2017-09-13 12:47:09  clicklog  6141716575792695306  \n",
       "3  6232867567143294667 2017-09-13 12:12:30  clicklog  2931152851733422991  \n",
       "4  8439158233758681546 2017-09-13 12:00:18  clicklog  4251262299046076363  "
      ]
     },
     "execution_count": 11,
     "metadata": {},
     "output_type": "execute_result"
    }
   ],
   "source": [
    "df_clicks.head()"
   ]
  },
  {
   "cell_type": "code",
   "execution_count": 12,
   "metadata": {},
   "outputs": [
    {
     "data": {
      "text/html": [
       "<div>\n",
       "<style scoped>\n",
       "    .dataframe tbody tr th:only-of-type {\n",
       "        vertical-align: middle;\n",
       "    }\n",
       "\n",
       "    .dataframe tbody tr th {\n",
       "        vertical-align: top;\n",
       "    }\n",
       "\n",
       "    .dataframe thead th {\n",
       "        text-align: right;\n",
       "    }\n",
       "</style>\n",
       "<table border=\"1\" class=\"dataframe\">\n",
       "  <thead>\n",
       "    <tr style=\"text-align: right;\">\n",
       "      <th></th>\n",
       "      <th>ab</th>\n",
       "      <th>algRef</th>\n",
       "      <th>feature</th>\n",
       "      <th>id</th>\n",
       "      <th>info</th>\n",
       "      <th>page</th>\n",
       "      <th>products</th>\n",
       "      <th>timestamp</th>\n",
       "      <th>type</th>\n",
       "      <th>vrlId</th>\n",
       "    </tr>\n",
       "  </thead>\n",
       "  <tbody>\n",
       "    <tr>\n",
       "      <th>0</th>\n",
       "      <td>G/7849515658654400358</td>\n",
       "      <td>5321418768591000592</td>\n",
       "      <td>-7828424103269057573</td>\n",
       "      <td>8765249957191</td>\n",
       "      <td>{'browserId': 2077291510979737164, 'browser': ...</td>\n",
       "      <td>product</td>\n",
       "      <td>[3653391013242405988, 3492582560532754791]</td>\n",
       "      <td>2017-08-26 00:05:22</td>\n",
       "      <td>viewreclog</td>\n",
       "      <td>8765249957191</td>\n",
       "    </tr>\n",
       "    <tr>\n",
       "      <th>1</th>\n",
       "      <td>E/-9206771770294839467</td>\n",
       "      <td>8765249957191</td>\n",
       "      <td>5603092165415881620</td>\n",
       "      <td>8765249957191</td>\n",
       "      <td>{'browserId': -5794300198289426830, 'browser':...</td>\n",
       "      <td>search</td>\n",
       "      <td>[1983875142539570898, -1617532069770397932]</td>\n",
       "      <td>2017-08-26 00:05:22</td>\n",
       "      <td>viewreclog</td>\n",
       "      <td>8765249957191</td>\n",
       "    </tr>\n",
       "    <tr>\n",
       "      <th>2</th>\n",
       "      <td>B/5469036284027064790</td>\n",
       "      <td>-7316380623456322413</td>\n",
       "      <td>5603092165415881620</td>\n",
       "      <td>8765249957191</td>\n",
       "      <td>{'browserId': -5824671029704807593, 'browser':...</td>\n",
       "      <td>category</td>\n",
       "      <td>[8345817602690948093, -4685433540937644115]</td>\n",
       "      <td>2017-08-26 00:05:22</td>\n",
       "      <td>viewreclog</td>\n",
       "      <td>8765249957191</td>\n",
       "    </tr>\n",
       "    <tr>\n",
       "      <th>3</th>\n",
       "      <td>H/1514327774359276100</td>\n",
       "      <td>8765249957191</td>\n",
       "      <td>-4092588031201132965</td>\n",
       "      <td>8765249957191</td>\n",
       "      <td>{'browserId': 803065015979834204, 'browser': '...</td>\n",
       "      <td>product</td>\n",
       "      <td>[4339435368953319849, -655160631340267337]</td>\n",
       "      <td>2017-08-26 00:05:23</td>\n",
       "      <td>viewreclog</td>\n",
       "      <td>8765249957191</td>\n",
       "    </tr>\n",
       "    <tr>\n",
       "      <th>4</th>\n",
       "      <td>A/-5014290602732537686</td>\n",
       "      <td>8765249957191</td>\n",
       "      <td>-4092588031201132965</td>\n",
       "      <td>8765249957191</td>\n",
       "      <td>{'browserId': -7681599627122648286, 'browser':...</td>\n",
       "      <td>product</td>\n",
       "      <td>[2106426664978872773, 1141620332716626693, -64...</td>\n",
       "      <td>2017-08-26 00:05:23</td>\n",
       "      <td>viewreclog</td>\n",
       "      <td>8765249957191</td>\n",
       "    </tr>\n",
       "  </tbody>\n",
       "</table>\n",
       "</div>"
      ],
      "text/plain": [
       "                       ab               algRef              feature  \\\n",
       "0   G/7849515658654400358  5321418768591000592 -7828424103269057573   \n",
       "1  E/-9206771770294839467        8765249957191  5603092165415881620   \n",
       "2   B/5469036284027064790 -7316380623456322413  5603092165415881620   \n",
       "3   H/1514327774359276100        8765249957191 -4092588031201132965   \n",
       "4  A/-5014290602732537686        8765249957191 -4092588031201132965   \n",
       "\n",
       "              id                                               info      page  \\\n",
       "0  8765249957191  {'browserId': 2077291510979737164, 'browser': ...   product   \n",
       "1  8765249957191  {'browserId': -5794300198289426830, 'browser':...    search   \n",
       "2  8765249957191  {'browserId': -5824671029704807593, 'browser':...  category   \n",
       "3  8765249957191  {'browserId': 803065015979834204, 'browser': '...   product   \n",
       "4  8765249957191  {'browserId': -7681599627122648286, 'browser':...   product   \n",
       "\n",
       "                                            products           timestamp  \\\n",
       "0         [3653391013242405988, 3492582560532754791] 2017-08-26 00:05:22   \n",
       "1        [1983875142539570898, -1617532069770397932] 2017-08-26 00:05:22   \n",
       "2        [8345817602690948093, -4685433540937644115] 2017-08-26 00:05:22   \n",
       "3         [4339435368953319849, -655160631340267337] 2017-08-26 00:05:23   \n",
       "4  [2106426664978872773, 1141620332716626693, -64... 2017-08-26 00:05:23   \n",
       "\n",
       "         type          vrlId  \n",
       "0  viewreclog  8765249957191  \n",
       "1  viewreclog  8765249957191  \n",
       "2  viewreclog  8765249957191  \n",
       "3  viewreclog  8765249957191  \n",
       "4  viewreclog  8765249957191  "
      ]
     },
     "execution_count": 12,
     "metadata": {},
     "output_type": "execute_result"
    }
   ],
   "source": [
    "df_impressions.head()"
   ]
  },
  {
   "cell_type": "code",
   "execution_count": 19,
   "metadata": {},
   "outputs": [
    {
     "data": {
      "text/html": [
       "<div>\n",
       "<style scoped>\n",
       "    .dataframe tbody tr th:only-of-type {\n",
       "        vertical-align: middle;\n",
       "    }\n",
       "\n",
       "    .dataframe tbody tr th {\n",
       "        vertical-align: top;\n",
       "    }\n",
       "\n",
       "    .dataframe thead th {\n",
       "        text-align: right;\n",
       "    }\n",
       "</style>\n",
       "<table border=\"1\" class=\"dataframe\">\n",
       "  <thead>\n",
       "    <tr style=\"text-align: right;\">\n",
       "      <th></th>\n",
       "      <th>ab</th>\n",
       "      <th>id</th>\n",
       "      <th>info</th>\n",
       "      <th>name</th>\n",
       "      <th>tags</th>\n",
       "      <th>timestamp</th>\n",
       "    </tr>\n",
       "  </thead>\n",
       "  <tbody>\n",
       "    <tr>\n",
       "      <th>0</th>\n",
       "      <td>F/-4674034584350596422</td>\n",
       "      <td>8765249957191</td>\n",
       "      <td>{'browserId': -8901737309149095989, 'browser':...</td>\n",
       "      <td>category</td>\n",
       "      <td>[-5990677861896497487, -5075272788001827571]</td>\n",
       "      <td>2017-08-26 12:18:26</td>\n",
       "    </tr>\n",
       "    <tr>\n",
       "      <th>1</th>\n",
       "      <td>F/-3370818432877482132</td>\n",
       "      <td>8765249957191</td>\n",
       "      <td>{'browserId': -6952411218239337506, 'browser':...</td>\n",
       "      <td>category</td>\n",
       "      <td>[-2893307141820608162]</td>\n",
       "      <td>2017-08-26 12:18:26</td>\n",
       "    </tr>\n",
       "    <tr>\n",
       "      <th>2</th>\n",
       "      <td>H/-6833017977536873480</td>\n",
       "      <td>8765249957191</td>\n",
       "      <td>{'browserId': -7304148636562131161, 'browser':...</td>\n",
       "      <td>category</td>\n",
       "      <td>[4904411018503081477]</td>\n",
       "      <td>2017-08-26 12:18:26</td>\n",
       "    </tr>\n",
       "    <tr>\n",
       "      <th>3</th>\n",
       "      <td>G/-5201470044805936293</td>\n",
       "      <td>8765249957191</td>\n",
       "      <td>{'browserId': -5836905034004402498, 'browser':...</td>\n",
       "      <td>product</td>\n",
       "      <td>[3181866419805229915, 5150372196067342755, 189...</td>\n",
       "      <td>2017-08-26 12:18:26</td>\n",
       "    </tr>\n",
       "    <tr>\n",
       "      <th>4</th>\n",
       "      <td>E/-2183580581788687574</td>\n",
       "      <td>8765249957191</td>\n",
       "      <td>{'browserId': 7440345113969891771, 'browser': ...</td>\n",
       "      <td>search</td>\n",
       "      <td>NaN</td>\n",
       "      <td>2017-08-26 12:18:27</td>\n",
       "    </tr>\n",
       "  </tbody>\n",
       "</table>\n",
       "</div>"
      ],
      "text/plain": [
       "                       ab             id  \\\n",
       "0  F/-4674034584350596422  8765249957191   \n",
       "1  F/-3370818432877482132  8765249957191   \n",
       "2  H/-6833017977536873480  8765249957191   \n",
       "3  G/-5201470044805936293  8765249957191   \n",
       "4  E/-2183580581788687574  8765249957191   \n",
       "\n",
       "                                                info      name  \\\n",
       "0  {'browserId': -8901737309149095989, 'browser':...  category   \n",
       "1  {'browserId': -6952411218239337506, 'browser':...  category   \n",
       "2  {'browserId': -7304148636562131161, 'browser':...  category   \n",
       "3  {'browserId': -5836905034004402498, 'browser':...   product   \n",
       "4  {'browserId': 7440345113969891771, 'browser': ...    search   \n",
       "\n",
       "                                                tags           timestamp  \n",
       "0       [-5990677861896497487, -5075272788001827571] 2017-08-26 12:18:26  \n",
       "1                             [-2893307141820608162] 2017-08-26 12:18:26  \n",
       "2                              [4904411018503081477] 2017-08-26 12:18:26  \n",
       "3  [3181866419805229915, 5150372196067342755, 189... 2017-08-26 12:18:26  \n",
       "4                                                NaN 2017-08-26 12:18:27  "
      ]
     },
     "execution_count": 19,
     "metadata": {},
     "output_type": "execute_result"
    }
   ],
   "source": [
    "df_pageViews.head()"
   ]
  },
  {
   "cell_type": "code",
   "execution_count": 32,
   "metadata": {},
   "outputs": [
    {
     "name": "stdout",
     "output_type": "stream",
     "text": [
      "49.20 MB\n",
      "49.20 MB\n",
      "611.86 MB\n",
      "505.59 MB\n"
     ]
    }
   ],
   "source": [
    "print(mem_usage(df_pageViews))\n",
    "df_pageViews.drop('type', axis=1, inplace=True)\n",
    "print(mem_usage(df_pageViews))\n",
    "df_pageViews.name = df_pageViews.name.astype('category')\n",
    "print(mem_usage(df_pageViews))\n",
    "df_pageViews.drop('tags', axis=1, inplace=True)\n",
    "print(mem_usage(df_pageViews))"
   ]
  },
  {
   "cell_type": "code",
   "execution_count": 52,
   "metadata": {},
   "outputs": [
    {
     "data": {
      "text/plain": [
       "{'browser': 'Firefox Beta 4.0 b12',\n",
       " 'browserId': -8901737309149095989,\n",
       " 'geoIPLatitude': None,\n",
       " 'geoIPLongitude': None,\n",
       " 'os': 'Linux',\n",
       " 'source': 'desktop'}"
      ]
     },
     "execution_count": 52,
     "metadata": {},
     "output_type": "execute_result"
    }
   ],
   "source": [
    "df_pageViews['info'][0]"
   ]
  },
  {
   "cell_type": "code",
   "execution_count": 60,
   "metadata": {},
   "outputs": [],
   "source": [
    "user_ids, oss, sources, browsers = [], [], [], []\n",
    "for info in df_pageViews['info']:\n",
    "    user_ids.append(info['browserId'])\n",
    "    oss.append(info['os'])\n",
    "    sources.append(info['source'])\n",
    "    browsers.append(info['browser'])"
   ]
  },
  {
   "cell_type": "code",
   "execution_count": 61,
   "metadata": {},
   "outputs": [
    {
     "name": "stdout",
     "output_type": "stream",
     "text": [
      "1072082\n",
      "1072082\n",
      "1072082\n",
      "1072082\n"
     ]
    }
   ],
   "source": [
    "print(len(user_ids))\n",
    "print(len(oss))\n",
    "print(len(sources))\n",
    "print(len(browsers))"
   ]
  },
  {
   "cell_type": "code",
   "execution_count": 65,
   "metadata": {},
   "outputs": [],
   "source": [
    "df_pageViews['user_id'] = user_ids\n",
    "df_pageViews['os'] = oss\n",
    "df_pageViews['source'] = sources\n",
    "df_pageViews['browser'] = browsers"
   ]
  },
  {
   "cell_type": "code",
   "execution_count": 66,
   "metadata": {},
   "outputs": [
    {
     "data": {
      "text/html": [
       "<div>\n",
       "<style scoped>\n",
       "    .dataframe tbody tr th:only-of-type {\n",
       "        vertical-align: middle;\n",
       "    }\n",
       "\n",
       "    .dataframe tbody tr th {\n",
       "        vertical-align: top;\n",
       "    }\n",
       "\n",
       "    .dataframe thead th {\n",
       "        text-align: right;\n",
       "    }\n",
       "</style>\n",
       "<table border=\"1\" class=\"dataframe\">\n",
       "  <thead>\n",
       "    <tr style=\"text-align: right;\">\n",
       "      <th></th>\n",
       "      <th>ab</th>\n",
       "      <th>id</th>\n",
       "      <th>info</th>\n",
       "      <th>name</th>\n",
       "      <th>timestamp</th>\n",
       "      <th>user_id</th>\n",
       "      <th>os</th>\n",
       "      <th>source</th>\n",
       "      <th>browser</th>\n",
       "    </tr>\n",
       "  </thead>\n",
       "  <tbody>\n",
       "    <tr>\n",
       "      <th>0</th>\n",
       "      <td>F/-4674034584350596422</td>\n",
       "      <td>8765249957191</td>\n",
       "      <td>{'browserId': -8901737309149095989, 'browser':...</td>\n",
       "      <td>category</td>\n",
       "      <td>2017-08-26 12:18:26</td>\n",
       "      <td>-8901737309149095989</td>\n",
       "      <td>Linux</td>\n",
       "      <td>desktop</td>\n",
       "      <td>Firefox Beta 4.0 b12</td>\n",
       "    </tr>\n",
       "    <tr>\n",
       "      <th>1</th>\n",
       "      <td>F/-3370818432877482132</td>\n",
       "      <td>8765249957191</td>\n",
       "      <td>{'browserId': -6952411218239337506, 'browser':...</td>\n",
       "      <td>category</td>\n",
       "      <td>2017-08-26 12:18:26</td>\n",
       "      <td>-6952411218239337506</td>\n",
       "      <td>Android 5.1.1</td>\n",
       "      <td>mobile</td>\n",
       "      <td>Chrome Mobile 59.0.3071</td>\n",
       "    </tr>\n",
       "    <tr>\n",
       "      <th>2</th>\n",
       "      <td>H/-6833017977536873480</td>\n",
       "      <td>8765249957191</td>\n",
       "      <td>{'browserId': -7304148636562131161, 'browser':...</td>\n",
       "      <td>category</td>\n",
       "      <td>2017-08-26 12:18:26</td>\n",
       "      <td>-7304148636562131161</td>\n",
       "      <td>Android 6.0</td>\n",
       "      <td>mobile</td>\n",
       "      <td>Chrome Mobile 60.0.3112</td>\n",
       "    </tr>\n",
       "    <tr>\n",
       "      <th>3</th>\n",
       "      <td>G/-5201470044805936293</td>\n",
       "      <td>8765249957191</td>\n",
       "      <td>{'browserId': -5836905034004402498, 'browser':...</td>\n",
       "      <td>product</td>\n",
       "      <td>2017-08-26 12:18:26</td>\n",
       "      <td>-5836905034004402498</td>\n",
       "      <td>Windows 8</td>\n",
       "      <td>desktop</td>\n",
       "      <td>Chrome 60.0.3112</td>\n",
       "    </tr>\n",
       "    <tr>\n",
       "      <th>4</th>\n",
       "      <td>E/-2183580581788687574</td>\n",
       "      <td>8765249957191</td>\n",
       "      <td>{'browserId': 7440345113969891771, 'browser': ...</td>\n",
       "      <td>search</td>\n",
       "      <td>2017-08-26 12:18:27</td>\n",
       "      <td>7440345113969891771</td>\n",
       "      <td>Android 6.0</td>\n",
       "      <td>mobile</td>\n",
       "      <td>Chrome Mobile 60.0.3112</td>\n",
       "    </tr>\n",
       "  </tbody>\n",
       "</table>\n",
       "</div>"
      ],
      "text/plain": [
       "                       ab             id  \\\n",
       "0  F/-4674034584350596422  8765249957191   \n",
       "1  F/-3370818432877482132  8765249957191   \n",
       "2  H/-6833017977536873480  8765249957191   \n",
       "3  G/-5201470044805936293  8765249957191   \n",
       "4  E/-2183580581788687574  8765249957191   \n",
       "\n",
       "                                                info      name  \\\n",
       "0  {'browserId': -8901737309149095989, 'browser':...  category   \n",
       "1  {'browserId': -6952411218239337506, 'browser':...  category   \n",
       "2  {'browserId': -7304148636562131161, 'browser':...  category   \n",
       "3  {'browserId': -5836905034004402498, 'browser':...   product   \n",
       "4  {'browserId': 7440345113969891771, 'browser': ...    search   \n",
       "\n",
       "            timestamp              user_id             os   source  \\\n",
       "0 2017-08-26 12:18:26 -8901737309149095989          Linux  desktop   \n",
       "1 2017-08-26 12:18:26 -6952411218239337506  Android 5.1.1   mobile   \n",
       "2 2017-08-26 12:18:26 -7304148636562131161    Android 6.0   mobile   \n",
       "3 2017-08-26 12:18:26 -5836905034004402498      Windows 8  desktop   \n",
       "4 2017-08-26 12:18:27  7440345113969891771    Android 6.0   mobile   \n",
       "\n",
       "                   browser  \n",
       "0     Firefox Beta 4.0 b12  \n",
       "1  Chrome Mobile 59.0.3071  \n",
       "2  Chrome Mobile 60.0.3112  \n",
       "3         Chrome 60.0.3112  \n",
       "4  Chrome Mobile 60.0.3112  "
      ]
     },
     "execution_count": 66,
     "metadata": {},
     "output_type": "execute_result"
    }
   ],
   "source": [
    "df_pageViews.head()"
   ]
  },
  {
   "cell_type": "code",
   "execution_count": 68,
   "metadata": {},
   "outputs": [],
   "source": [
    "user_ids, oss, sources, browsers = None, None, None, None"
   ]
  },
  {
   "cell_type": "code",
   "execution_count": 70,
   "metadata": {},
   "outputs": [
    {
     "name": "stdout",
     "output_type": "stream",
     "text": [
      "724.59 MB\n",
      "660.64 MB\n"
     ]
    }
   ],
   "source": [
    "print(mem_usage(df_pageViews))\n",
    "df_pageViews.source = df_pageViews.source.astype('category')\n",
    "print(mem_usage(df_pageViews))"
   ]
  },
  {
   "cell_type": "code",
   "execution_count": 74,
   "metadata": {},
   "outputs": [
    {
     "data": {
      "text/plain": [
       "0       Firefox Beta 4.0 b12\n",
       "1    Chrome Mobile 59.0.3071\n",
       "2    Chrome Mobile 60.0.3112\n",
       "3           Chrome 60.0.3112\n",
       "4    Chrome Mobile 60.0.3112\n",
       "5       Mobile Safari 10.0.0\n",
       "6           Chrome 60.0.3112\n",
       "7       Mobile Safari 10.0.0\n",
       "8    Chrome Mobile 51.0.2704\n",
       "Name: browser, dtype: object"
      ]
     },
     "execution_count": 74,
     "metadata": {},
     "output_type": "execute_result"
    }
   ],
   "source": [
    "df_pageViews.browser[0:9]"
   ]
  },
  {
   "cell_type": "code",
   "execution_count": 96,
   "metadata": {},
   "outputs": [],
   "source": [
    "df_pageViews.browser = df_pageViews.browser.str.replace('Mobile ', '')"
   ]
  },
  {
   "cell_type": "code",
   "execution_count": 97,
   "metadata": {},
   "outputs": [
    {
     "data": {
      "text/plain": [
       "'Firefox'"
      ]
     },
     "execution_count": 97,
     "metadata": {},
     "output_type": "execute_result"
    }
   ],
   "source": [
    "df_pageViews.browser[0].split(' ')[0]"
   ]
  },
  {
   "cell_type": "code",
   "execution_count": 110,
   "metadata": {},
   "outputs": [],
   "source": [
    "browsers = []\n",
    "for browser in df_pageViews.browser.str.split(' '):\n",
    "    browsers.append(browser[0])\n",
    "df_pageViews.browser = browsers"
   ]
  },
  {
   "cell_type": "code",
   "execution_count": 112,
   "metadata": {},
   "outputs": [
    {
     "data": {
      "text/html": [
       "<div>\n",
       "<style scoped>\n",
       "    .dataframe tbody tr th:only-of-type {\n",
       "        vertical-align: middle;\n",
       "    }\n",
       "\n",
       "    .dataframe tbody tr th {\n",
       "        vertical-align: top;\n",
       "    }\n",
       "\n",
       "    .dataframe thead th {\n",
       "        text-align: right;\n",
       "    }\n",
       "</style>\n",
       "<table border=\"1\" class=\"dataframe\">\n",
       "  <thead>\n",
       "    <tr style=\"text-align: right;\">\n",
       "      <th></th>\n",
       "      <th>ab</th>\n",
       "      <th>id</th>\n",
       "      <th>info</th>\n",
       "      <th>name</th>\n",
       "      <th>timestamp</th>\n",
       "      <th>user_id</th>\n",
       "      <th>os</th>\n",
       "      <th>source</th>\n",
       "      <th>browser</th>\n",
       "    </tr>\n",
       "  </thead>\n",
       "  <tbody>\n",
       "    <tr>\n",
       "      <th>0</th>\n",
       "      <td>F/-4674034584350596422</td>\n",
       "      <td>8765249957191</td>\n",
       "      <td>{'browserId': -8901737309149095989, 'browser':...</td>\n",
       "      <td>category</td>\n",
       "      <td>2017-08-26 12:18:26</td>\n",
       "      <td>-8901737309149095989</td>\n",
       "      <td>Linux</td>\n",
       "      <td>desktop</td>\n",
       "      <td>Firefox</td>\n",
       "    </tr>\n",
       "    <tr>\n",
       "      <th>1</th>\n",
       "      <td>F/-3370818432877482132</td>\n",
       "      <td>8765249957191</td>\n",
       "      <td>{'browserId': -6952411218239337506, 'browser':...</td>\n",
       "      <td>category</td>\n",
       "      <td>2017-08-26 12:18:26</td>\n",
       "      <td>-6952411218239337506</td>\n",
       "      <td>Android 5.1.1</td>\n",
       "      <td>mobile</td>\n",
       "      <td>Chrome</td>\n",
       "    </tr>\n",
       "    <tr>\n",
       "      <th>2</th>\n",
       "      <td>H/-6833017977536873480</td>\n",
       "      <td>8765249957191</td>\n",
       "      <td>{'browserId': -7304148636562131161, 'browser':...</td>\n",
       "      <td>category</td>\n",
       "      <td>2017-08-26 12:18:26</td>\n",
       "      <td>-7304148636562131161</td>\n",
       "      <td>Android 6.0</td>\n",
       "      <td>mobile</td>\n",
       "      <td>Chrome</td>\n",
       "    </tr>\n",
       "    <tr>\n",
       "      <th>3</th>\n",
       "      <td>G/-5201470044805936293</td>\n",
       "      <td>8765249957191</td>\n",
       "      <td>{'browserId': -5836905034004402498, 'browser':...</td>\n",
       "      <td>product</td>\n",
       "      <td>2017-08-26 12:18:26</td>\n",
       "      <td>-5836905034004402498</td>\n",
       "      <td>Windows 8</td>\n",
       "      <td>desktop</td>\n",
       "      <td>Chrome</td>\n",
       "    </tr>\n",
       "    <tr>\n",
       "      <th>4</th>\n",
       "      <td>E/-2183580581788687574</td>\n",
       "      <td>8765249957191</td>\n",
       "      <td>{'browserId': 7440345113969891771, 'browser': ...</td>\n",
       "      <td>search</td>\n",
       "      <td>2017-08-26 12:18:27</td>\n",
       "      <td>7440345113969891771</td>\n",
       "      <td>Android 6.0</td>\n",
       "      <td>mobile</td>\n",
       "      <td>Chrome</td>\n",
       "    </tr>\n",
       "  </tbody>\n",
       "</table>\n",
       "</div>"
      ],
      "text/plain": [
       "                       ab             id  \\\n",
       "0  F/-4674034584350596422  8765249957191   \n",
       "1  F/-3370818432877482132  8765249957191   \n",
       "2  H/-6833017977536873480  8765249957191   \n",
       "3  G/-5201470044805936293  8765249957191   \n",
       "4  E/-2183580581788687574  8765249957191   \n",
       "\n",
       "                                                info      name  \\\n",
       "0  {'browserId': -8901737309149095989, 'browser':...  category   \n",
       "1  {'browserId': -6952411218239337506, 'browser':...  category   \n",
       "2  {'browserId': -7304148636562131161, 'browser':...  category   \n",
       "3  {'browserId': -5836905034004402498, 'browser':...   product   \n",
       "4  {'browserId': 7440345113969891771, 'browser': ...    search   \n",
       "\n",
       "            timestamp              user_id             os   source  browser  \n",
       "0 2017-08-26 12:18:26 -8901737309149095989          Linux  desktop  Firefox  \n",
       "1 2017-08-26 12:18:26 -6952411218239337506  Android 5.1.1   mobile   Chrome  \n",
       "2 2017-08-26 12:18:26 -7304148636562131161    Android 6.0   mobile   Chrome  \n",
       "3 2017-08-26 12:18:26 -5836905034004402498      Windows 8  desktop   Chrome  \n",
       "4 2017-08-26 12:18:27  7440345113969891771    Android 6.0   mobile   Chrome  "
      ]
     },
     "execution_count": 112,
     "metadata": {},
     "output_type": "execute_result"
    }
   ],
   "source": [
    "df_pageViews.head()"
   ]
  },
  {
   "cell_type": "code",
   "execution_count": 113,
   "metadata": {},
   "outputs": [],
   "source": [
    "browsers = None"
   ]
  },
  {
   "cell_type": "code",
   "execution_count": 115,
   "metadata": {},
   "outputs": [
    {
     "name": "stdout",
     "output_type": "stream",
     "text": [
      "647.76 MB\n",
      "584.37 MB\n"
     ]
    }
   ],
   "source": [
    "print(mem_usage(df_pageViews))\n",
    "df_pageViews.browser = df_pageViews.browser.astype('category')\n",
    "print(mem_usage(df_pageViews))"
   ]
  },
  {
   "cell_type": "code",
   "execution_count": 119,
   "metadata": {},
   "outputs": [],
   "source": [
    "oss = []\n",
    "for os in df_pageViews.os.str.split(' '):\n",
    "    oss.append(os[0])\n",
    "df_pageViews.os = oss"
   ]
  },
  {
   "cell_type": "code",
   "execution_count": 120,
   "metadata": {},
   "outputs": [
    {
     "data": {
      "text/html": [
       "<div>\n",
       "<style scoped>\n",
       "    .dataframe tbody tr th:only-of-type {\n",
       "        vertical-align: middle;\n",
       "    }\n",
       "\n",
       "    .dataframe tbody tr th {\n",
       "        vertical-align: top;\n",
       "    }\n",
       "\n",
       "    .dataframe thead th {\n",
       "        text-align: right;\n",
       "    }\n",
       "</style>\n",
       "<table border=\"1\" class=\"dataframe\">\n",
       "  <thead>\n",
       "    <tr style=\"text-align: right;\">\n",
       "      <th></th>\n",
       "      <th>ab</th>\n",
       "      <th>id</th>\n",
       "      <th>info</th>\n",
       "      <th>name</th>\n",
       "      <th>timestamp</th>\n",
       "      <th>user_id</th>\n",
       "      <th>os</th>\n",
       "      <th>source</th>\n",
       "      <th>browser</th>\n",
       "    </tr>\n",
       "  </thead>\n",
       "  <tbody>\n",
       "    <tr>\n",
       "      <th>0</th>\n",
       "      <td>F/-4674034584350596422</td>\n",
       "      <td>8765249957191</td>\n",
       "      <td>{'browserId': -8901737309149095989, 'browser':...</td>\n",
       "      <td>category</td>\n",
       "      <td>2017-08-26 12:18:26</td>\n",
       "      <td>-8901737309149095989</td>\n",
       "      <td>Linux</td>\n",
       "      <td>desktop</td>\n",
       "      <td>Firefox</td>\n",
       "    </tr>\n",
       "    <tr>\n",
       "      <th>1</th>\n",
       "      <td>F/-3370818432877482132</td>\n",
       "      <td>8765249957191</td>\n",
       "      <td>{'browserId': -6952411218239337506, 'browser':...</td>\n",
       "      <td>category</td>\n",
       "      <td>2017-08-26 12:18:26</td>\n",
       "      <td>-6952411218239337506</td>\n",
       "      <td>Android</td>\n",
       "      <td>mobile</td>\n",
       "      <td>Chrome</td>\n",
       "    </tr>\n",
       "    <tr>\n",
       "      <th>2</th>\n",
       "      <td>H/-6833017977536873480</td>\n",
       "      <td>8765249957191</td>\n",
       "      <td>{'browserId': -7304148636562131161, 'browser':...</td>\n",
       "      <td>category</td>\n",
       "      <td>2017-08-26 12:18:26</td>\n",
       "      <td>-7304148636562131161</td>\n",
       "      <td>Android</td>\n",
       "      <td>mobile</td>\n",
       "      <td>Chrome</td>\n",
       "    </tr>\n",
       "    <tr>\n",
       "      <th>3</th>\n",
       "      <td>G/-5201470044805936293</td>\n",
       "      <td>8765249957191</td>\n",
       "      <td>{'browserId': -5836905034004402498, 'browser':...</td>\n",
       "      <td>product</td>\n",
       "      <td>2017-08-26 12:18:26</td>\n",
       "      <td>-5836905034004402498</td>\n",
       "      <td>Windows</td>\n",
       "      <td>desktop</td>\n",
       "      <td>Chrome</td>\n",
       "    </tr>\n",
       "    <tr>\n",
       "      <th>4</th>\n",
       "      <td>E/-2183580581788687574</td>\n",
       "      <td>8765249957191</td>\n",
       "      <td>{'browserId': 7440345113969891771, 'browser': ...</td>\n",
       "      <td>search</td>\n",
       "      <td>2017-08-26 12:18:27</td>\n",
       "      <td>7440345113969891771</td>\n",
       "      <td>Android</td>\n",
       "      <td>mobile</td>\n",
       "      <td>Chrome</td>\n",
       "    </tr>\n",
       "  </tbody>\n",
       "</table>\n",
       "</div>"
      ],
      "text/plain": [
       "                       ab             id  \\\n",
       "0  F/-4674034584350596422  8765249957191   \n",
       "1  F/-3370818432877482132  8765249957191   \n",
       "2  H/-6833017977536873480  8765249957191   \n",
       "3  G/-5201470044805936293  8765249957191   \n",
       "4  E/-2183580581788687574  8765249957191   \n",
       "\n",
       "                                                info      name  \\\n",
       "0  {'browserId': -8901737309149095989, 'browser':...  category   \n",
       "1  {'browserId': -6952411218239337506, 'browser':...  category   \n",
       "2  {'browserId': -7304148636562131161, 'browser':...  category   \n",
       "3  {'browserId': -5836905034004402498, 'browser':...   product   \n",
       "4  {'browserId': 7440345113969891771, 'browser': ...    search   \n",
       "\n",
       "            timestamp              user_id       os   source  browser  \n",
       "0 2017-08-26 12:18:26 -8901737309149095989    Linux  desktop  Firefox  \n",
       "1 2017-08-26 12:18:26 -6952411218239337506  Android   mobile   Chrome  \n",
       "2 2017-08-26 12:18:26 -7304148636562131161  Android   mobile   Chrome  \n",
       "3 2017-08-26 12:18:26 -5836905034004402498  Windows  desktop   Chrome  \n",
       "4 2017-08-26 12:18:27  7440345113969891771  Android   mobile   Chrome  "
      ]
     },
     "execution_count": 120,
     "metadata": {},
     "output_type": "execute_result"
    }
   ],
   "source": [
    "df_pageViews.head()"
   ]
  },
  {
   "cell_type": "code",
   "execution_count": 121,
   "metadata": {},
   "outputs": [],
   "source": [
    "oss = None"
   ]
  },
  {
   "cell_type": "code",
   "execution_count": 122,
   "metadata": {},
   "outputs": [
    {
     "name": "stdout",
     "output_type": "stream",
     "text": [
      "580.83 MB\n",
      "516.84 MB\n"
     ]
    }
   ],
   "source": [
    "print(mem_usage(df_pageViews))\n",
    "df_pageViews.os = df_pageViews.os.astype('category')\n",
    "print(mem_usage(df_pageViews))"
   ]
  },
  {
   "cell_type": "code",
   "execution_count": 128,
   "metadata": {},
   "outputs": [
    {
     "name": "stdout",
     "output_type": "stream",
     "text": [
      "156.95 MB\n"
     ]
    }
   ],
   "source": [
    "df_pageViews.drop('info', axis=1, inplace=True)\n",
    "print(mem_usage(df_pageViews))"
   ]
  },
  {
   "cell_type": "code",
   "execution_count": 129,
   "metadata": {},
   "outputs": [
    {
     "name": "stdout",
     "output_type": "stream",
     "text": [
      "149.80 MB\n"
     ]
    }
   ],
   "source": [
    "df_pageViews.id = df_pageViews.id.astype('category')\n",
    "print(mem_usage(df_pageViews))"
   ]
  },
  {
   "cell_type": "code",
   "execution_count": 130,
   "metadata": {},
   "outputs": [
    {
     "name": "stdout",
     "output_type": "stream",
     "text": [
      "<class 'pandas.core.frame.DataFrame'>\n",
      "Int64Index: 1072082 entries, 0 to 1072081\n",
      "Data columns (total 8 columns):\n",
      "ab           1072082 non-null object\n",
      "id           1072082 non-null category\n",
      "name         1072082 non-null category\n",
      "timestamp    1072082 non-null datetime64[ns]\n",
      "user_id      1072082 non-null int64\n",
      "os           1072082 non-null category\n",
      "source       1072082 non-null category\n",
      "browser      1072082 non-null category\n",
      "dtypes: category(5), datetime64[ns](1), int64(1), object(1)\n",
      "memory usage: 149.8 MB\n"
     ]
    }
   ],
   "source": [
    "df_pageViews.info(memory_usage='deep')"
   ]
  },
  {
   "cell_type": "code",
   "execution_count": 132,
   "metadata": {},
   "outputs": [
    {
     "name": "stdout",
     "output_type": "stream",
     "text": [
      "128.32 MB\n"
     ]
    }
   ],
   "source": [
    "print(mem_usage(df_pageViews.ab))"
   ]
  },
  {
   "cell_type": "code",
   "execution_count": 136,
   "metadata": {},
   "outputs": [],
   "source": [
    "groups, sessions = [], []\n",
    "for ab in df_pageViews.ab.str.split('/'):\n",
    "    groups.append(ab[0])\n",
    "    sessions.append(ab[1])\n",
    "df_pageViews['group'] = groups\n",
    "df_pageViews['session'] = sessions"
   ]
  },
  {
   "cell_type": "code",
   "execution_count": 137,
   "metadata": {},
   "outputs": [
    {
     "data": {
      "text/html": [
       "<div>\n",
       "<style scoped>\n",
       "    .dataframe tbody tr th:only-of-type {\n",
       "        vertical-align: middle;\n",
       "    }\n",
       "\n",
       "    .dataframe tbody tr th {\n",
       "        vertical-align: top;\n",
       "    }\n",
       "\n",
       "    .dataframe thead th {\n",
       "        text-align: right;\n",
       "    }\n",
       "</style>\n",
       "<table border=\"1\" class=\"dataframe\">\n",
       "  <thead>\n",
       "    <tr style=\"text-align: right;\">\n",
       "      <th></th>\n",
       "      <th>ab</th>\n",
       "      <th>id</th>\n",
       "      <th>name</th>\n",
       "      <th>timestamp</th>\n",
       "      <th>user_id</th>\n",
       "      <th>os</th>\n",
       "      <th>source</th>\n",
       "      <th>browser</th>\n",
       "      <th>group</th>\n",
       "      <th>session</th>\n",
       "    </tr>\n",
       "  </thead>\n",
       "  <tbody>\n",
       "    <tr>\n",
       "      <th>0</th>\n",
       "      <td>F/-4674034584350596422</td>\n",
       "      <td>8765249957191</td>\n",
       "      <td>category</td>\n",
       "      <td>2017-08-26 12:18:26</td>\n",
       "      <td>-8901737309149095989</td>\n",
       "      <td>Linux</td>\n",
       "      <td>desktop</td>\n",
       "      <td>Firefox</td>\n",
       "      <td>F</td>\n",
       "      <td>-4674034584350596422</td>\n",
       "    </tr>\n",
       "    <tr>\n",
       "      <th>1</th>\n",
       "      <td>F/-3370818432877482132</td>\n",
       "      <td>8765249957191</td>\n",
       "      <td>category</td>\n",
       "      <td>2017-08-26 12:18:26</td>\n",
       "      <td>-6952411218239337506</td>\n",
       "      <td>Android</td>\n",
       "      <td>mobile</td>\n",
       "      <td>Chrome</td>\n",
       "      <td>F</td>\n",
       "      <td>-3370818432877482132</td>\n",
       "    </tr>\n",
       "    <tr>\n",
       "      <th>2</th>\n",
       "      <td>H/-6833017977536873480</td>\n",
       "      <td>8765249957191</td>\n",
       "      <td>category</td>\n",
       "      <td>2017-08-26 12:18:26</td>\n",
       "      <td>-7304148636562131161</td>\n",
       "      <td>Android</td>\n",
       "      <td>mobile</td>\n",
       "      <td>Chrome</td>\n",
       "      <td>H</td>\n",
       "      <td>-6833017977536873480</td>\n",
       "    </tr>\n",
       "    <tr>\n",
       "      <th>3</th>\n",
       "      <td>G/-5201470044805936293</td>\n",
       "      <td>8765249957191</td>\n",
       "      <td>product</td>\n",
       "      <td>2017-08-26 12:18:26</td>\n",
       "      <td>-5836905034004402498</td>\n",
       "      <td>Windows</td>\n",
       "      <td>desktop</td>\n",
       "      <td>Chrome</td>\n",
       "      <td>G</td>\n",
       "      <td>-5201470044805936293</td>\n",
       "    </tr>\n",
       "    <tr>\n",
       "      <th>4</th>\n",
       "      <td>E/-2183580581788687574</td>\n",
       "      <td>8765249957191</td>\n",
       "      <td>search</td>\n",
       "      <td>2017-08-26 12:18:27</td>\n",
       "      <td>7440345113969891771</td>\n",
       "      <td>Android</td>\n",
       "      <td>mobile</td>\n",
       "      <td>Chrome</td>\n",
       "      <td>E</td>\n",
       "      <td>-2183580581788687574</td>\n",
       "    </tr>\n",
       "  </tbody>\n",
       "</table>\n",
       "</div>"
      ],
      "text/plain": [
       "                       ab             id      name           timestamp  \\\n",
       "0  F/-4674034584350596422  8765249957191  category 2017-08-26 12:18:26   \n",
       "1  F/-3370818432877482132  8765249957191  category 2017-08-26 12:18:26   \n",
       "2  H/-6833017977536873480  8765249957191  category 2017-08-26 12:18:26   \n",
       "3  G/-5201470044805936293  8765249957191   product 2017-08-26 12:18:26   \n",
       "4  E/-2183580581788687574  8765249957191    search 2017-08-26 12:18:27   \n",
       "\n",
       "               user_id       os   source  browser group               session  \n",
       "0 -8901737309149095989    Linux  desktop  Firefox     F  -4674034584350596422  \n",
       "1 -6952411218239337506  Android   mobile   Chrome     F  -3370818432877482132  \n",
       "2 -7304148636562131161  Android   mobile   Chrome     H  -6833017977536873480  \n",
       "3 -5836905034004402498  Windows  desktop   Chrome     G  -5201470044805936293  \n",
       "4  7440345113969891771  Android   mobile   Chrome     E  -2183580581788687574  "
      ]
     },
     "execution_count": 137,
     "metadata": {},
     "output_type": "execute_result"
    }
   ],
   "source": [
    "df_pageViews.head()"
   ]
  },
  {
   "cell_type": "code",
   "execution_count": 138,
   "metadata": {},
   "outputs": [],
   "source": [
    "groups, sessions = None, None"
   ]
  },
  {
   "cell_type": "code",
   "execution_count": 139,
   "metadata": {},
   "outputs": [
    {
     "name": "stdout",
     "output_type": "stream",
     "text": [
      "295.37 MB\n",
      "215.23 MB\n",
      "148.77 MB\n",
      "94.17 MB\n"
     ]
    }
   ],
   "source": [
    "print(mem_usage(df_pageViews))\n",
    "df_pageViews.drop('ab', axis=1, inplace=True)\n",
    "print(mem_usage(df_pageViews))\n",
    "df_pageViews.group = df_pageViews.group.astype('category')\n",
    "print(mem_usage(df_pageViews))\n",
    "df_pageViews.session = df_pageViews.session.astype('category')\n",
    "print(mem_usage(df_pageViews))"
   ]
  },
  {
   "cell_type": "code",
   "execution_count": 144,
   "metadata": {},
   "outputs": [
    {
     "name": "stdout",
     "output_type": "stream",
     "text": [
      "<class 'pandas.core.frame.DataFrame'>\n",
      "Int64Index: 1072082 entries, 0 to 1072081\n",
      "Data columns (total 9 columns):\n",
      "id           1072082 non-null category\n",
      "name         1072082 non-null category\n",
      "timestamp    1072082 non-null datetime64[ns]\n",
      "user_id      1072082 non-null int64\n",
      "os           1072082 non-null category\n",
      "source       1072082 non-null category\n",
      "browser      1072082 non-null category\n",
      "group        1072082 non-null category\n",
      "session      1072082 non-null category\n",
      "dtypes: category(7), datetime64[ns](1), int64(1)\n",
      "memory usage: 94.2 MB\n"
     ]
    }
   ],
   "source": [
    "df_pageViews.info(memory_usage='deep')"
   ]
  }
 ],
 "metadata": {
  "kernelspec": {
   "display_name": "Python 3",
   "language": "python",
   "name": "python3"
  },
  "language_info": {
   "codemirror_mode": {
    "name": "ipython",
    "version": 3
   },
   "file_extension": ".py",
   "mimetype": "text/x-python",
   "name": "python",
   "nbconvert_exporter": "python",
   "pygments_lexer": "ipython3",
   "version": "3.6.2"
  }
 },
 "nbformat": 4,
 "nbformat_minor": 2
}
