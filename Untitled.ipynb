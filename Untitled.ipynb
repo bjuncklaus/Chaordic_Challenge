{
 "cells": [
  {
   "cell_type": "code",
   "execution_count": 2,
   "metadata": {},
   "outputs": [],
   "source": [
    "import pandas as pd"
   ]
  },
  {
   "cell_type": "code",
   "execution_count": 3,
   "metadata": {},
   "outputs": [],
   "source": [
    "data_dir = 'data/'\n",
    "data_transanctions = data_dir + 'transactions/'\n",
    "data_clicks = data_dir + 'clicks/'\n",
    "data_impressions = data_dir + 'impressions/'\n",
    "data_pageViews = data_dir + 'pageViews/'"
   ]
  },
  {
   "cell_type": "code",
   "execution_count": 11,
   "metadata": {},
   "outputs": [],
   "source": [
    "# df_transactions = pd.read_json(data_transanctions + 'part-00', lines=True)\n",
    "# df_clicks = pd.read_json(data_clicks + 'part-00', lines=True)\n",
    "df_impressions = pd.read_json(data_impressions + 'part-00', lines=True)\n",
    "# df_pageViews = pd.read_json(data_pageViews + 'part-00', lines=True)"
   ]
  },
  {
   "cell_type": "code",
   "execution_count": 12,
   "metadata": {},
   "outputs": [
    {
     "data": {
      "text/plain": [
       "926924"
      ]
     },
     "execution_count": 12,
     "metadata": {},
     "output_type": "execute_result"
    }
   ],
   "source": [
    "len(df_impressions)"
   ]
  },
  {
   "cell_type": "code",
   "execution_count": 13,
   "metadata": {},
   "outputs": [
    {
     "name": "stdout",
     "output_type": "stream",
     "text": [
      "<class 'pandas.core.frame.DataFrame'>\n",
      "Int64Index: 926924 entries, 0 to 926923\n",
      "Data columns (total 10 columns):\n",
      "ab           926924 non-null object\n",
      "algRef       926924 non-null int64\n",
      "feature      926924 non-null int64\n",
      "id           926924 non-null int64\n",
      "info         926924 non-null object\n",
      "page         926924 non-null object\n",
      "products     926924 non-null object\n",
      "timestamp    926924 non-null datetime64[ns]\n",
      "type         926924 non-null object\n",
      "vrlId        926924 non-null int64\n",
      "dtypes: datetime64[ns](1), int64(4), object(5)\n",
      "memory usage: 611.3 MB\n"
     ]
    }
   ],
   "source": [
    "df_impressions.info(memory_usage='deep')"
   ]
  },
  {
   "cell_type": "code",
   "execution_count": 14,
   "metadata": {},
   "outputs": [
    {
     "data": {
      "text/html": [
       "<div>\n",
       "<style>\n",
       "    .dataframe thead tr:only-child th {\n",
       "        text-align: right;\n",
       "    }\n",
       "\n",
       "    .dataframe thead th {\n",
       "        text-align: left;\n",
       "    }\n",
       "\n",
       "    .dataframe tbody tr th {\n",
       "        vertical-align: top;\n",
       "    }\n",
       "</style>\n",
       "<table border=\"1\" class=\"dataframe\">\n",
       "  <thead>\n",
       "    <tr style=\"text-align: right;\">\n",
       "      <th></th>\n",
       "      <th>ab</th>\n",
       "      <th>algRef</th>\n",
       "      <th>feature</th>\n",
       "      <th>id</th>\n",
       "      <th>info</th>\n",
       "      <th>page</th>\n",
       "      <th>products</th>\n",
       "      <th>timestamp</th>\n",
       "      <th>type</th>\n",
       "      <th>vrlId</th>\n",
       "    </tr>\n",
       "  </thead>\n",
       "  <tbody>\n",
       "    <tr>\n",
       "      <th>0</th>\n",
       "      <td>G/7849515658654400358</td>\n",
       "      <td>5321418768591000592</td>\n",
       "      <td>-7828424103269057573</td>\n",
       "      <td>8765249957191</td>\n",
       "      <td>{'browserId': 2077291510979737164, 'browser': ...</td>\n",
       "      <td>product</td>\n",
       "      <td>[3653391013242405988, 3492582560532754791]</td>\n",
       "      <td>2017-08-26 00:05:22</td>\n",
       "      <td>viewreclog</td>\n",
       "      <td>8765249957191</td>\n",
       "    </tr>\n",
       "    <tr>\n",
       "      <th>1</th>\n",
       "      <td>E/-9206771770294839467</td>\n",
       "      <td>8765249957191</td>\n",
       "      <td>5603092165415881620</td>\n",
       "      <td>8765249957191</td>\n",
       "      <td>{'browserId': -5794300198289426830, 'browser':...</td>\n",
       "      <td>search</td>\n",
       "      <td>[1983875142539570898, -1617532069770397932]</td>\n",
       "      <td>2017-08-26 00:05:22</td>\n",
       "      <td>viewreclog</td>\n",
       "      <td>8765249957191</td>\n",
       "    </tr>\n",
       "    <tr>\n",
       "      <th>2</th>\n",
       "      <td>B/5469036284027064790</td>\n",
       "      <td>-7316380623456322413</td>\n",
       "      <td>5603092165415881620</td>\n",
       "      <td>8765249957191</td>\n",
       "      <td>{'browserId': -5824671029704807593, 'browser':...</td>\n",
       "      <td>category</td>\n",
       "      <td>[8345817602690948093, -4685433540937644115]</td>\n",
       "      <td>2017-08-26 00:05:22</td>\n",
       "      <td>viewreclog</td>\n",
       "      <td>8765249957191</td>\n",
       "    </tr>\n",
       "    <tr>\n",
       "      <th>3</th>\n",
       "      <td>H/1514327774359276100</td>\n",
       "      <td>8765249957191</td>\n",
       "      <td>-4092588031201132965</td>\n",
       "      <td>8765249957191</td>\n",
       "      <td>{'browserId': 803065015979834204, 'browser': '...</td>\n",
       "      <td>product</td>\n",
       "      <td>[4339435368953319849, -655160631340267337]</td>\n",
       "      <td>2017-08-26 00:05:23</td>\n",
       "      <td>viewreclog</td>\n",
       "      <td>8765249957191</td>\n",
       "    </tr>\n",
       "    <tr>\n",
       "      <th>4</th>\n",
       "      <td>A/-5014290602732537686</td>\n",
       "      <td>8765249957191</td>\n",
       "      <td>-4092588031201132965</td>\n",
       "      <td>8765249957191</td>\n",
       "      <td>{'browserId': -7681599627122648286, 'browser':...</td>\n",
       "      <td>product</td>\n",
       "      <td>[2106426664978872773, 1141620332716626693, -64...</td>\n",
       "      <td>2017-08-26 00:05:23</td>\n",
       "      <td>viewreclog</td>\n",
       "      <td>8765249957191</td>\n",
       "    </tr>\n",
       "  </tbody>\n",
       "</table>\n",
       "</div>"
      ],
      "text/plain": [
       "                       ab               algRef              feature  \\\n",
       "0   G/7849515658654400358  5321418768591000592 -7828424103269057573   \n",
       "1  E/-9206771770294839467        8765249957191  5603092165415881620   \n",
       "2   B/5469036284027064790 -7316380623456322413  5603092165415881620   \n",
       "3   H/1514327774359276100        8765249957191 -4092588031201132965   \n",
       "4  A/-5014290602732537686        8765249957191 -4092588031201132965   \n",
       "\n",
       "              id                                               info      page  \\\n",
       "0  8765249957191  {'browserId': 2077291510979737164, 'browser': ...   product   \n",
       "1  8765249957191  {'browserId': -5794300198289426830, 'browser':...    search   \n",
       "2  8765249957191  {'browserId': -5824671029704807593, 'browser':...  category   \n",
       "3  8765249957191  {'browserId': 803065015979834204, 'browser': '...   product   \n",
       "4  8765249957191  {'browserId': -7681599627122648286, 'browser':...   product   \n",
       "\n",
       "                                            products           timestamp  \\\n",
       "0         [3653391013242405988, 3492582560532754791] 2017-08-26 00:05:22   \n",
       "1        [1983875142539570898, -1617532069770397932] 2017-08-26 00:05:22   \n",
       "2        [8345817602690948093, -4685433540937644115] 2017-08-26 00:05:22   \n",
       "3         [4339435368953319849, -655160631340267337] 2017-08-26 00:05:23   \n",
       "4  [2106426664978872773, 1141620332716626693, -64... 2017-08-26 00:05:23   \n",
       "\n",
       "         type          vrlId  \n",
       "0  viewreclog  8765249957191  \n",
       "1  viewreclog  8765249957191  \n",
       "2  viewreclog  8765249957191  \n",
       "3  viewreclog  8765249957191  \n",
       "4  viewreclog  8765249957191  "
      ]
     },
     "execution_count": 14,
     "metadata": {},
     "output_type": "execute_result"
    }
   ],
   "source": [
    "df_impressions.head()"
   ]
  },
  {
   "cell_type": "code",
   "execution_count": null,
   "metadata": {},
   "outputs": [],
   "source": [
    "df.select_dtypes(include=['object']).describe()"
   ]
  }
 ],
 "metadata": {
  "kernelspec": {
   "display_name": "Python 3",
   "language": "python",
   "name": "python3"
  },
  "language_info": {
   "codemirror_mode": {
    "name": "ipython",
    "version": 3
   },
   "file_extension": ".py",
   "mimetype": "text/x-python",
   "name": "python",
   "nbconvert_exporter": "python",
   "pygments_lexer": "ipython3",
   "version": "3.6.2"
  }
 },
 "nbformat": 4,
 "nbformat_minor": 2
}
