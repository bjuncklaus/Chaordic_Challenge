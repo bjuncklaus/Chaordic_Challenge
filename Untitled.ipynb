{
 "cells": [
  {
   "cell_type": "code",
   "execution_count": 2,
   "metadata": {
    "collapsed": true
   },
   "outputs": [],
   "source": [
    "import pandas as pd"
   ]
  },
  {
   "cell_type": "code",
   "execution_count": 12,
   "metadata": {},
   "outputs": [],
   "source": [
    "data_dir = 'data/'\n",
    "data_transanctions = data_dir + 'impressions/'"
   ]
  },
  {
   "cell_type": "code",
   "execution_count": 13,
   "metadata": {
    "collapsed": true
   },
   "outputs": [],
   "source": [
    "df = pd.read_json(data_transanctions + 'part-10', lines=True)"
   ]
  },
  {
   "cell_type": "code",
   "execution_count": 14,
   "metadata": {},
   "outputs": [
    {
     "data": {
      "text/plain": [
       "1418133"
      ]
     },
     "execution_count": 14,
     "metadata": {},
     "output_type": "execute_result"
    }
   ],
   "source": [
    "len(df)"
   ]
  },
  {
   "cell_type": "code",
   "execution_count": 16,
   "metadata": {},
   "outputs": [
    {
     "name": "stdout",
     "output_type": "stream",
     "text": [
      "<class 'pandas.core.frame.DataFrame'>\n",
      "Int64Index: 1418133 entries, 0 to 1418132\n",
      "Data columns (total 10 columns):\n",
      "ab           1418133 non-null object\n",
      "algRef       1418133 non-null int64\n",
      "feature      1418133 non-null int64\n",
      "id           1418133 non-null int64\n",
      "info         1418133 non-null object\n",
      "page         1418133 non-null object\n",
      "products     1418133 non-null object\n",
      "timestamp    1418133 non-null datetime64[ns]\n",
      "type         1418133 non-null object\n",
      "vrlId        1418133 non-null int64\n",
      "dtypes: datetime64[ns](1), int64(4), object(5)\n",
      "memory usage: 1.1 GB\n"
     ]
    }
   ],
   "source": [
    "df.info(memory_usage='deep')"
   ]
  },
  {
   "cell_type": "code",
   "execution_count": 17,
   "metadata": {},
   "outputs": [
    {
     "data": {
      "text/html": [
       "<div>\n",
       "<style>\n",
       "    .dataframe thead tr:only-child th {\n",
       "        text-align: right;\n",
       "    }\n",
       "\n",
       "    .dataframe thead th {\n",
       "        text-align: left;\n",
       "    }\n",
       "\n",
       "    .dataframe tbody tr th {\n",
       "        vertical-align: top;\n",
       "    }\n",
       "</style>\n",
       "<table border=\"1\" class=\"dataframe\">\n",
       "  <thead>\n",
       "    <tr style=\"text-align: right;\">\n",
       "      <th></th>\n",
       "      <th>ab</th>\n",
       "      <th>algRef</th>\n",
       "      <th>feature</th>\n",
       "      <th>id</th>\n",
       "      <th>info</th>\n",
       "      <th>page</th>\n",
       "      <th>products</th>\n",
       "      <th>timestamp</th>\n",
       "      <th>type</th>\n",
       "      <th>vrlId</th>\n",
       "    </tr>\n",
       "  </thead>\n",
       "  <tbody>\n",
       "    <tr>\n",
       "      <th>0</th>\n",
       "      <td>D/8719707203551170428</td>\n",
       "      <td>-7316380623456322413</td>\n",
       "      <td>5603092165415881620</td>\n",
       "      <td>8765249957191</td>\n",
       "      <td>{'geoIPLongitude': '-43.9333', 'os': 'iOS 10.3...</td>\n",
       "      <td>category</td>\n",
       "      <td>[8678803998682917511, 268116511737437555]</td>\n",
       "      <td>2017-08-29 17:12:37</td>\n",
       "      <td>viewreclog</td>\n",
       "      <td>8765249957191</td>\n",
       "    </tr>\n",
       "    <tr>\n",
       "      <th>1</th>\n",
       "      <td>G/6816804666485159823</td>\n",
       "      <td>8765249957191</td>\n",
       "      <td>-4092588031201132965</td>\n",
       "      <td>8765249957191</td>\n",
       "      <td>{'geoIPLongitude': '-43.2192', 'os': 'Windows ...</td>\n",
       "      <td>product</td>\n",
       "      <td>[-2550759271350632785, -3322577426425946355, -...</td>\n",
       "      <td>2017-08-29 17:12:37</td>\n",
       "      <td>viewreclog</td>\n",
       "      <td>8765249957191</td>\n",
       "    </tr>\n",
       "    <tr>\n",
       "      <th>2</th>\n",
       "      <td>D/4298610455670770677</td>\n",
       "      <td>8765249957191</td>\n",
       "      <td>-4092588031201132965</td>\n",
       "      <td>8765249957191</td>\n",
       "      <td>{'geoIPLongitude': '-43.2192', 'os': 'Windows ...</td>\n",
       "      <td>product</td>\n",
       "      <td>[-4446465370530668566, -8541199829215487257, 7...</td>\n",
       "      <td>2017-08-29 17:12:38</td>\n",
       "      <td>viewreclog</td>\n",
       "      <td>8765249957191</td>\n",
       "    </tr>\n",
       "    <tr>\n",
       "      <th>3</th>\n",
       "      <td>D/4298610455670770677</td>\n",
       "      <td>8765249957191</td>\n",
       "      <td>6534989628677096963</td>\n",
       "      <td>8765249957191</td>\n",
       "      <td>{'geoIPLongitude': '-43.2192', 'os': 'Windows ...</td>\n",
       "      <td>product</td>\n",
       "      <td>[5171896055566725421, 6731911892448046114]</td>\n",
       "      <td>2017-08-29 17:12:38</td>\n",
       "      <td>viewreclog</td>\n",
       "      <td>8765249957191</td>\n",
       "    </tr>\n",
       "    <tr>\n",
       "      <th>4</th>\n",
       "      <td>D/4298610455670770677</td>\n",
       "      <td>8765249957191</td>\n",
       "      <td>6534989628677096963</td>\n",
       "      <td>8765249957191</td>\n",
       "      <td>{'geoIPLongitude': '-43.2192', 'os': 'Windows ...</td>\n",
       "      <td>product</td>\n",
       "      <td>[112687202880543866, 228696965905064958]</td>\n",
       "      <td>2017-08-29 17:12:38</td>\n",
       "      <td>viewreclog</td>\n",
       "      <td>8765249957191</td>\n",
       "    </tr>\n",
       "  </tbody>\n",
       "</table>\n",
       "</div>"
      ],
      "text/plain": [
       "                      ab               algRef              feature  \\\n",
       "0  D/8719707203551170428 -7316380623456322413  5603092165415881620   \n",
       "1  G/6816804666485159823        8765249957191 -4092588031201132965   \n",
       "2  D/4298610455670770677        8765249957191 -4092588031201132965   \n",
       "3  D/4298610455670770677        8765249957191  6534989628677096963   \n",
       "4  D/4298610455670770677        8765249957191  6534989628677096963   \n",
       "\n",
       "              id                                               info      page  \\\n",
       "0  8765249957191  {'geoIPLongitude': '-43.9333', 'os': 'iOS 10.3...  category   \n",
       "1  8765249957191  {'geoIPLongitude': '-43.2192', 'os': 'Windows ...   product   \n",
       "2  8765249957191  {'geoIPLongitude': '-43.2192', 'os': 'Windows ...   product   \n",
       "3  8765249957191  {'geoIPLongitude': '-43.2192', 'os': 'Windows ...   product   \n",
       "4  8765249957191  {'geoIPLongitude': '-43.2192', 'os': 'Windows ...   product   \n",
       "\n",
       "                                            products           timestamp  \\\n",
       "0          [8678803998682917511, 268116511737437555] 2017-08-29 17:12:37   \n",
       "1  [-2550759271350632785, -3322577426425946355, -... 2017-08-29 17:12:37   \n",
       "2  [-4446465370530668566, -8541199829215487257, 7... 2017-08-29 17:12:38   \n",
       "3         [5171896055566725421, 6731911892448046114] 2017-08-29 17:12:38   \n",
       "4           [112687202880543866, 228696965905064958] 2017-08-29 17:12:38   \n",
       "\n",
       "         type          vrlId  \n",
       "0  viewreclog  8765249957191  \n",
       "1  viewreclog  8765249957191  \n",
       "2  viewreclog  8765249957191  \n",
       "3  viewreclog  8765249957191  \n",
       "4  viewreclog  8765249957191  "
      ]
     },
     "execution_count": 17,
     "metadata": {},
     "output_type": "execute_result"
    }
   ],
   "source": [
    "df.head()"
   ]
  },
  {
   "cell_type": "code",
   "execution_count": null,
   "metadata": {
    "collapsed": true
   },
   "outputs": [],
   "source": []
  }
 ],
 "metadata": {
  "kernelspec": {
   "display_name": "Python 3",
   "language": "python",
   "name": "python3"
  },
  "language_info": {
   "codemirror_mode": {
    "name": "ipython",
    "version": 3
   },
   "file_extension": ".py",
   "mimetype": "text/x-python",
   "name": "python",
   "nbconvert_exporter": "python",
   "pygments_lexer": "ipython3",
   "version": "3.5.3"
  }
 },
 "nbformat": 4,
 "nbformat_minor": 2
}
