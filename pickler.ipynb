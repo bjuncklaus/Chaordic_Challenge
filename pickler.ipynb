{
 "cells": [
  {
   "cell_type": "code",
   "execution_count": null,
   "metadata": {},
   "outputs": [],
   "source": [
    "import pandas as pd\n",
    "pd.__version__"
   ]
  },
  {
   "cell_type": "code",
   "execution_count": null,
   "metadata": {},
   "outputs": [],
   "source": [
    "data_dir = 'data/'\n",
    "data_transanctions = data_dir + 'transactions/'\n",
    "data_clicks = data_dir + 'clicks/'\n",
    "data_impressions = data_dir + 'impressions/'\n",
    "data_pageViews = data_dir + 'pageViews/'\n",
    "NUM_DATAFILES = 37"
   ]
  },
  {
   "cell_type": "code",
   "execution_count": null,
   "metadata": {},
   "outputs": [],
   "source": [
    "def mem_usage(pandas_obj):\n",
    "    if isinstance(pandas_obj,pd.DataFrame):\n",
    "        usage_b = pandas_obj.memory_usage(deep=True).sum()\n",
    "    else: # Assuming pd.Series\n",
    "        usage_b = pandas_obj.memory_usage(deep=True)\n",
    "    usage_mb = usage_b / 1024 ** 2\n",
    "    return \"{:03.2f} MB\".format(usage_mb)"
   ]
  },
  {
   "cell_type": "code",
   "execution_count": null,
   "metadata": {},
   "outputs": [],
   "source": [
    "def extract_info(dataFrame):\n",
    "    global user_ids, oss, sources, browsers\n",
    "    user_ids, oss, sources, browsers, groups, sessions = [], [], [], [], [], []\n",
    "    for info in dataFrame['info']:\n",
    "        user_ids.append(info['browserId'])\n",
    "        oss.append(info['os'])\n",
    "        sources.append(info['source'])\n",
    "        browsers.append(info['browser'])"
   ]
  },
  {
   "cell_type": "code",
   "execution_count": null,
   "metadata": {},
   "outputs": [],
   "source": [
    "def append_info(dataFrame):\n",
    "    dataFrame['user_id'] = user_ids\n",
    "    dataFrame['os'] = oss\n",
    "    dataFrame['source'] = sources\n",
    "    dataFrame['browser'] = browsers"
   ]
  },
  {
   "cell_type": "code",
   "execution_count": null,
   "metadata": {},
   "outputs": [],
   "source": [
    "def clear_tmp_variables():\n",
    "    global user_ids, oss, sources, browsers\n",
    "    user_ids, oss, sources, browsers, groups, sessions = [], [], [], [], [], []"
   ]
  },
  {
   "cell_type": "code",
   "execution_count": null,
   "metadata": {},
   "outputs": [],
   "source": [
    "def clean_browser_values(dataFrame):    \n",
    "    dataFrame.browser = dataFrame.browser.str.replace('Mobile ', '')\n",
    "    global browsers\n",
    "    browsers = []\n",
    "    for browser in dataFrame.browser.str.split(' '):\n",
    "        browsers.append(browser[0])\n",
    "    dataFrame.browser = browsers"
   ]
  },
  {
   "cell_type": "code",
   "execution_count": null,
   "metadata": {},
   "outputs": [],
   "source": [
    "def clean_os_values(dataFrame):\n",
    "    global oss\n",
    "    oss = []\n",
    "    for os in dataFrame.os.str.split(' '):\n",
    "        oss.append(os[0])\n",
    "    dataFrame.os = oss"
   ]
  },
  {
   "cell_type": "code",
   "execution_count": null,
   "metadata": {},
   "outputs": [],
   "source": [
    "def clean_ab_values(dataFrame):\n",
    "    global groups, sessions\n",
    "    groups, sessions = [], []\n",
    "    \n",
    "    for ab in dataFrame.ab.str.split('/'):\n",
    "        groups.append(ab[0])\n",
    "        sessions.append(ab[1])\n",
    "    dataFrame['group'] = groups\n",
    "    dataFrame['session'] = sessions"
   ]
  },
  {
   "cell_type": "code",
   "execution_count": null,
   "metadata": {},
   "outputs": [],
   "source": [
    "def set_column_as_category(dataFrame, column_name):\n",
    "    dataFrame[column_name] = dataFrame[column_name].astype('category')"
   ]
  },
  {
   "cell_type": "code",
   "execution_count": null,
   "metadata": {},
   "outputs": [],
   "source": [
    "def extract_shared_variables(dataFrame):\n",
    "    extract_info(dataFrame)\n",
    "    append_info(dataFrame)\n",
    "    clean_browser_values(dataFrame)\n",
    "    clear_tmp_variables()\n",
    "    clean_os_values(dataFrame)\n",
    "    clean_ab_values(dataFrame)\n",
    "    clear_tmp_variables()"
   ]
  },
  {
   "cell_type": "code",
   "execution_count": null,
   "metadata": {},
   "outputs": [],
   "source": [
    "def reduce_memory_usage_pageViews(df_pageViews):\n",
    "    df_pageViews.info(memory_usage='deep')\n",
    "    print(mem_usage(df_pageViews))\n",
    "    if 'type' in df_pageViews.columns:\n",
    "        df_pageViews.drop('type', axis=1, inplace=True)\n",
    "        print(mem_usage(df_pageViews))\n",
    "    if 'info' in df_pageViews.columns:\n",
    "        df_pageViews.drop('info', axis=1, inplace=True)\n",
    "        print(mem_usage(df_pageViews))\n",
    "    if 'tags' in df_pageViews.columns:\n",
    "        df_pageViews.drop('tags', axis=1, inplace=True)\n",
    "        print(mem_usage(df_pageViews))\n",
    "    if 'ab' in df_pageViews.columns:\n",
    "        df_pageViews.drop('ab', axis=1, inplace=True)\n",
    "        print(mem_usage(df_pageViews))\n",
    "    set_column_as_category(df_pageViews, 'group')\n",
    "    print(mem_usage(df_pageViews))\n",
    "    set_column_as_category(df_pageViews, 'name')\n",
    "    print(mem_usage(df_pageViews))\n",
    "    set_column_as_category(df_pageViews, 'source')\n",
    "    print(mem_usage(df_pageViews))\n",
    "    set_column_as_category(df_pageViews, 'browser')\n",
    "    print(mem_usage(df_pageViews))\n",
    "    set_column_as_category(df_pageViews, 'os')\n",
    "    print(mem_usage(df_pageViews))\n",
    "    set_column_as_category(df_pageViews, 'id')\n",
    "    print(mem_usage(df_pageViews))\n",
    "    set_column_as_category(df_pageViews, 'session')\n",
    "    df_pageViews.info(memory_usage='deep')"
   ]
  },
  {
   "cell_type": "code",
   "execution_count": null,
   "metadata": {},
   "outputs": [],
   "source": [
    "def reduce_memory_usage_impressions(df_impressions):\n",
    "    df_impressions.info(memory_usage='deep')\n",
    "    print(mem_usage(df_impressions))\n",
    "    if 'type' in df_impressions.columns:\n",
    "        df_impressions.drop('type', axis=1, inplace=True)\n",
    "        print(mem_usage(df_impressions))\n",
    "    if 'vrlId' in df_impressions.columns:\n",
    "        df_impressions.drop('vrlId', axis=1, inplace=True)\n",
    "        print(mem_usage(df_impressions))\n",
    "    if 'ab' in df_impressions.columns:\n",
    "        df_impressions.drop('ab', axis=1, inplace=True)\n",
    "        print(mem_usage(df_impressions))\n",
    "    if 'info' in df_impressions.columns:\n",
    "        df_impressions.drop('info', axis=1, inplace=True)\n",
    "        print(mem_usage(df_impressions))\n",
    "    set_column_as_category(df_impressions, 'algRef')\n",
    "    print(mem_usage(df_impressions))\n",
    "    set_column_as_category(df_impressions, 'feature')\n",
    "    print(mem_usage(df_impressions))\n",
    "    set_column_as_category(df_impressions, 'id')\n",
    "    print(mem_usage(df_impressions))\n",
    "    set_column_as_category(df_impressions, 'page')\n",
    "    print(mem_usage(df_impressions))\n",
    "    set_column_as_category(df_impressions, 'user_id')\n",
    "    print(mem_usage(df_impressions))\n",
    "    set_column_as_category(df_impressions, 'os')\n",
    "    print(mem_usage(df_impressions))\n",
    "    set_column_as_category(df_impressions, 'source')\n",
    "    print(mem_usage(df_impressions))\n",
    "    set_column_as_category(df_impressions, 'browser')\n",
    "    print(mem_usage(df_impressions))\n",
    "    set_column_as_category(df_impressions, 'group')\n",
    "    print(mem_usage(df_impressions))\n",
    "    set_column_as_category(df_impressions, 'session')\n",
    "    print(mem_usage(df_impressions))\n",
    "    df_impressions.info(memory_usage='deep')"
   ]
  },
  {
   "cell_type": "code",
   "execution_count": null,
   "metadata": {},
   "outputs": [],
   "source": [
    "def reduce_memory_usage_clicks(df_clicks):\n",
    "    df_clicks.info(memory_usage='deep')\n",
    "    print(mem_usage(df_clicks))\n",
    "    if 'type' in df_clicks.columns:\n",
    "        df_clicks.drop('type', axis=1, inplace=True)\n",
    "        print(mem_usage(df_clicks))\n",
    "    if 'vrlId' in df_clicks.columns:\n",
    "        df_clicks.drop('vrlId', axis=1, inplace=True)\n",
    "        print(mem_usage(df_clicks))\n",
    "    if 'ab' in df_clicks.columns:\n",
    "        df_clicks.drop('ab', axis=1, inplace=True)\n",
    "        print(mem_usage(df_clicks))\n",
    "    if 'info' in df_clicks.columns:\n",
    "        df_clicks.drop('info', axis=1, inplace=True)\n",
    "        print(mem_usage(df_clicks))\n",
    "    set_column_as_category(df_clicks, 'feature')\n",
    "    print(mem_usage(df_clicks))\n",
    "    set_column_as_category(df_clicks, 'id')\n",
    "    print(mem_usage(df_clicks))\n",
    "    set_column_as_category(df_clicks, 'page')\n",
    "    print(mem_usage(df_clicks))\n",
    "    set_column_as_category(df_clicks, 'user_id')\n",
    "    print(mem_usage(df_clicks))\n",
    "    set_column_as_category(df_clicks, 'product')\n",
    "    print(mem_usage(df_clicks))\n",
    "    set_column_as_category(df_clicks, 'os')\n",
    "    print(mem_usage(df_clicks))\n",
    "    set_column_as_category(df_clicks, 'source')\n",
    "    print(mem_usage(df_clicks))\n",
    "    set_column_as_category(df_clicks, 'browser')\n",
    "    print(mem_usage(df_clicks))\n",
    "    set_column_as_category(df_clicks, 'group')\n",
    "    print(mem_usage(df_clicks))\n",
    "    set_column_as_category(df_clicks, 'session')\n",
    "    print(mem_usage(df_clicks))\n",
    "    df_clicks.info(memory_usage='deep')"
   ]
  },
  {
   "cell_type": "code",
   "execution_count": null,
   "metadata": {},
   "outputs": [],
   "source": [
    "def reduce_memory_usage_transactions(df_transactions):\n",
    "    df_transactions.info(memory_usage='deep')\n",
    "    print(mem_usage(df_transactions))\n",
    "    if 'type' in df_transactions.columns:\n",
    "        df_transactions.drop('type', axis=1, inplace=True)\n",
    "        print(mem_usage(df_transactions))\n",
    "    if 'ab' in df_transactions.columns:\n",
    "        df_transactions.drop('ab', axis=1, inplace=True)\n",
    "        print(mem_usage(df_transactions))\n",
    "    if 'info' in df_transactions.columns:\n",
    "        df_transactions.drop('info', axis=1, inplace=True)\n",
    "        print(mem_usage(df_transactions))\n",
    "    set_column_as_category(df_transactions, 'id')\n",
    "    print(mem_usage(df_transactions))\n",
    "    set_column_as_category(df_transactions, 'user_id')\n",
    "    print(mem_usage(df_transactions))\n",
    "    set_column_as_category(df_transactions, 'paymentType')\n",
    "    print(mem_usage(df_transactions))\n",
    "    set_column_as_category(df_transactions, 'os')\n",
    "    print(mem_usage(df_transactions))\n",
    "    set_column_as_category(df_transactions, 'source')\n",
    "    print(mem_usage(df_transactions))\n",
    "    set_column_as_category(df_transactions, 'browser')\n",
    "    print(mem_usage(df_transactions))\n",
    "    set_column_as_category(df_transactions, 'group')\n",
    "    print(mem_usage(df_transactions))\n",
    "    set_column_as_category(df_transactions, 'session')\n",
    "    print(mem_usage(df_transactions))\n",
    "    df_transactions.info(memory_usage='deep')"
   ]
  },
  {
   "cell_type": "code",
   "execution_count": null,
   "metadata": {},
   "outputs": [],
   "source": [
    "df_pageViews_to_merge = []\n",
    "df_impressions_to_merge = []\n",
    "df_clicks_to_merge = []\n",
    "df_transactions_to_merge = []\n",
    "for i in range(0, NUM_DATAFILES):\n",
    "    print()\n",
    "    print()\n",
    "    print(\"=========Iteration:\", i, \"==========\")\n",
    "    print()\n",
    "    datafile = \"{:02.0f}\".format(i)\n",
    "    df_transactions = pd.read_json(data_transanctions + 'part-' + datafile, lines=True)\n",
    "    df_clicks = pd.read_json(data_clicks + 'part-' + datafile, lines=True)\n",
    "    df_impressions = pd.read_json(data_impressions + 'part-' + datafile, lines=True)\n",
    "    df_pageViews = pd.read_json(data_pageViews + 'part-' + datafile, lines=True)\n",
    "    \n",
    "    if not df_pageViews.empty:\n",
    "        extract_shared_variables(df_pageViews)\n",
    "        print('PageViews:', len(df_pageViews))\n",
    "        reduce_memory_usage_pageViews(df_pageViews)\n",
    "        df_pageViews_to_merge.append(df_pageViews)\n",
    "    \n",
    "    if not df_impressions.empty:\n",
    "        extract_shared_variables(df_impressions)\n",
    "        print('Impressions:', len(df_impressions))\n",
    "        reduce_memory_usage_impressions(df_impressions)\n",
    "        df_impressions_to_merge.append(df_impressions)\n",
    "    \n",
    "    if not df_clicks.empty:\n",
    "        extract_shared_variables(df_clicks)\n",
    "        print('Clicks:', len(df_clicks))\n",
    "        reduce_memory_usage_clicks(df_clicks)\n",
    "        df_clicks_to_merge.append(df_clicks)\n",
    "    \n",
    "    if not df_transactions.empty:\n",
    "        extract_shared_variables(df_transactions)\n",
    "        print('Transactions:', len(df_transactions))\n",
    "        reduce_memory_usage_transactions(df_transactions)\n",
    "        df_transactions_to_merge.append(df_transactions)\n",
    "    "
   ]
  },
  {
   "cell_type": "code",
   "execution_count": null,
   "metadata": {},
   "outputs": [],
   "source": [
    "print(len(df_pageViews_to_merge))\n",
    "print(len(df_impressions_to_merge))\n",
    "print(len(df_clicks_to_merge))\n",
    "print(len(df_transactions_to_merge))"
   ]
  },
  {
   "cell_type": "markdown",
   "metadata": {},
   "source": [
    "### Saving the .pickle files"
   ]
  },
  {
   "cell_type": "markdown",
   "metadata": {},
   "source": [
    "##### pageViews"
   ]
  },
  {
   "cell_type": "code",
   "execution_count": null,
   "metadata": {},
   "outputs": [],
   "source": [
    "df_merged = pd.concat(df_pageViews_to_merge)\n",
    "len(df_merged)"
   ]
  },
  {
   "cell_type": "code",
   "execution_count": null,
   "metadata": {},
   "outputs": [],
   "source": [
    "df_merged.info(memory_usage=\"deep\")"
   ]
  },
  {
   "cell_type": "code",
   "execution_count": null,
   "metadata": {},
   "outputs": [],
   "source": [
    "reduce_memory_usage_pageViews(df_merged)\n",
    "df_merged.info(memory_usage=\"deep\")"
   ]
  },
  {
   "cell_type": "code",
   "execution_count": null,
   "metadata": {},
   "outputs": [],
   "source": [
    "df_merged.to_pickle(data_pageViews + 'full_pageViews.pickle')"
   ]
  },
  {
   "cell_type": "markdown",
   "metadata": {},
   "source": [
    "##### impressions"
   ]
  },
  {
   "cell_type": "code",
   "execution_count": null,
   "metadata": {},
   "outputs": [],
   "source": [
    "df_merged = pd.concat(df_impressions_to_merge)\n",
    "len(df_merged)"
   ]
  },
  {
   "cell_type": "code",
   "execution_count": null,
   "metadata": {},
   "outputs": [],
   "source": [
    "df_merged.info(memory_usage=\"deep\")"
   ]
  },
  {
   "cell_type": "code",
   "execution_count": null,
   "metadata": {},
   "outputs": [],
   "source": [
    "reduce_memory_usage_impressions(df_merged)\n",
    "df_merged.info(memory_usage=\"deep\")"
   ]
  },
  {
   "cell_type": "code",
   "execution_count": null,
   "metadata": {},
   "outputs": [],
   "source": [
    "df_merged.to_pickle(data_impressions + 'full_impressions.pickle')"
   ]
  },
  {
   "cell_type": "markdown",
   "metadata": {},
   "source": [
    "##### clicks"
   ]
  },
  {
   "cell_type": "code",
   "execution_count": null,
   "metadata": {},
   "outputs": [],
   "source": [
    "df_merged = pd.concat(df_clicks_to_merge)\n",
    "len(df_merged)"
   ]
  },
  {
   "cell_type": "code",
   "execution_count": null,
   "metadata": {},
   "outputs": [],
   "source": [
    "df_merged.info(memory_usage=\"deep\")"
   ]
  },
  {
   "cell_type": "code",
   "execution_count": null,
   "metadata": {},
   "outputs": [],
   "source": [
    "reduce_memory_usage_impressions(df_merged)\n",
    "df_merged.info(memory_usage=\"deep\")"
   ]
  },
  {
   "cell_type": "code",
   "execution_count": null,
   "metadata": {},
   "outputs": [],
   "source": [
    "df_merged.to_pickle(data_clicks + 'full_clicks.pickle')"
   ]
  },
  {
   "cell_type": "markdown",
   "metadata": {},
   "source": [
    "##### transactions"
   ]
  },
  {
   "cell_type": "code",
   "execution_count": null,
   "metadata": {},
   "outputs": [],
   "source": [
    "df_merged = pd.concat(df_transactions_to_merge)\n",
    "len(df_merged)"
   ]
  },
  {
   "cell_type": "code",
   "execution_count": null,
   "metadata": {},
   "outputs": [],
   "source": [
    "df_merged.info(memory_usage=\"deep\")"
   ]
  },
  {
   "cell_type": "code",
   "execution_count": null,
   "metadata": {},
   "outputs": [],
   "source": [
    "reduce_memory_usage_impressions(df_merged)\n",
    "df_merged.info(memory_usage=\"deep\")"
   ]
  },
  {
   "cell_type": "code",
   "execution_count": null,
   "metadata": {},
   "outputs": [],
   "source": [
    "df_merged.to_pickle(data_clicks + 'full_clicks.pickle')"
   ]
  }
 ],
 "metadata": {
  "kernelspec": {
   "display_name": "Python 3",
   "language": "python",
   "name": "python3"
  },
  "language_info": {
   "codemirror_mode": {
    "name": "ipython",
    "version": 3
   },
   "file_extension": ".py",
   "mimetype": "text/x-python",
   "name": "python",
   "nbconvert_exporter": "python",
   "pygments_lexer": "ipython3",
   "version": "3.6.2"
  }
 },
 "nbformat": 4,
 "nbformat_minor": 2
}
